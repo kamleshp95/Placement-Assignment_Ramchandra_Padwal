{
  "nbformat": 4,
  "nbformat_minor": 0,
  "metadata": {
    "colab": {
      "provenance": [],
      "gpuType": "T4"
    },
    "kernelspec": {
      "name": "python3",
      "display_name": "Python 3"
    },
    "language_info": {
      "name": "python"
    },
    "accelerator": "GPU"
  },
  "cells": [
    {
      "cell_type": "markdown",
      "source": [
        "**Question 2 -**<br>\n",
        "Implement 5 different CNN architectures with a comparison table for CIFAR 10\n",
        "dataset using the PyTorch library\n",
        "<br>**Note -**\n",
        "1. The model parameters for each architecture should not be more than 10000\n",
        "parameters<br>\n",
        "2. Code comments should be given for proper code understanding"
      ],
      "metadata": {
        "id": "wvdiG0rXpjyr"
      }
    },
    {
      "cell_type": "markdown",
      "source": [
        "**Ans**"
      ],
      "metadata": {
        "id": "bIHqlfbPp5sU"
      }
    },
    {
      "cell_type": "code",
      "execution_count": 1,
      "metadata": {
        "id": "6gb35uAon2WP"
      },
      "outputs": [],
      "source": [
        "# importing necessary libraries\n",
        "import torch\n",
        "import torch.nn as nn\n",
        "import torch.optim as optim\n",
        "import torchvision\n",
        "import torchvision.transforms as transforms\n",
        "import pandas as pd"
      ]
    },
    {
      "cell_type": "code",
      "source": [
        "# Define the transformations for data preprocessing\n",
        "transform = transforms.Compose(\n",
        "    [transforms.RandomHorizontalFlip(),\n",
        "     transforms.RandomCrop(32, padding=4),\n",
        "     transforms.ToTensor(),\n",
        "     transforms.Normalize((0.5, 0.5, 0.5), (0.5, 0.5, 0.5))])"
      ],
      "metadata": {
        "id": "zDyGhuL7qMUF"
      },
      "execution_count": 2,
      "outputs": []
    },
    {
      "cell_type": "code",
      "source": [
        "# Load the CIFAR-10 dataset\n",
        "trainset = torchvision.datasets.CIFAR10(root='./data', train=True,\n",
        "                                        download=True, transform=transform)\n",
        "trainloader = torch.utils.data.DataLoader(trainset, batch_size=128,\n",
        "                                          shuffle=True, num_workers=2)\n",
        "\n",
        "testset = torchvision.datasets.CIFAR10(root='./data', train=False,\n",
        "                                       download=True, transform=transform)\n",
        "testloader = torch.utils.data.DataLoader(testset, batch_size=128,\n",
        "                                         shuffle=False, num_workers=2)"
      ],
      "metadata": {
        "colab": {
          "base_uri": "https://localhost:8080/"
        },
        "id": "bjlBkPk2qO_D",
        "outputId": "67d8c8b9-5112-4f33-a019-a6ec11d14011"
      },
      "execution_count": 3,
      "outputs": [
        {
          "output_type": "stream",
          "name": "stdout",
          "text": [
            "Downloading https://www.cs.toronto.edu/~kriz/cifar-10-python.tar.gz to ./data/cifar-10-python.tar.gz\n"
          ]
        },
        {
          "output_type": "stream",
          "name": "stderr",
          "text": [
            "100%|██████████| 170498071/170498071 [00:13<00:00, 12755957.31it/s]\n"
          ]
        },
        {
          "output_type": "stream",
          "name": "stdout",
          "text": [
            "Extracting ./data/cifar-10-python.tar.gz to ./data\n",
            "Files already downloaded and verified\n"
          ]
        }
      ]
    },
    {
      "cell_type": "code",
      "source": [
        "# Define a function to count the number of trainable parameters in a model\n",
        "def count_parameters(model):\n",
        "    return sum(p.numel() for p in model.parameters() if p.requires_grad)"
      ],
      "metadata": {
        "id": "XJEW9SdfqS8c"
      },
      "execution_count": 4,
      "outputs": []
    },
    {
      "cell_type": "code",
      "source": [
        "# Define a function to train and evaluate the model\n",
        "def train_model(model, criterion, optimizer, num_epochs=10):\n",
        "    for epoch in range(num_epochs):\n",
        "        running_loss = 0.0\n",
        "        for i, data in enumerate(trainloader, 0):\n",
        "            inputs, labels = data\n",
        "            optimizer.zero_grad()\n",
        "\n",
        "            outputs = model(inputs)\n",
        "            loss = criterion(outputs, labels)\n",
        "            loss.backward()\n",
        "            optimizer.step()\n",
        "\n",
        "            running_loss += loss.item()\n",
        "        print('Epoch {} Loss: {:.3f}'.format(epoch + 1, running_loss / len(trainloader)))\n",
        "    \n",
        "def test_model(model):\n",
        "    correct = 0\n",
        "    total = 0\n",
        "    with torch.no_grad():\n",
        "        for data in testloader:\n",
        "            images, labels = data\n",
        "            outputs = model(images)\n",
        "            _, predicted = torch.max(outputs.data, 1)\n",
        "            total += labels.size(0)\n",
        "            correct += (predicted == labels).sum().item()\n",
        "    accuracy = 100.0 * correct / total\n",
        "    print('Test Accuracy: {:.2f}%'.format(accuracy))"
      ],
      "metadata": {
        "id": "J-AAVgzyqWul"
      },
      "execution_count": 5,
      "outputs": []
    },
    {
      "cell_type": "code",
      "source": [
        "# Define the first CNN architecture\n",
        "class CNN1(nn.Module):\n",
        "    def __init__(self):\n",
        "        super(CNN1, self).__init__()\n",
        "        self.conv1 = nn.Conv2d(3, 16, 3, padding=1)\n",
        "        self.relu = nn.ReLU()\n",
        "        self.pool = nn.MaxPool2d(2, 2)\n",
        "        self.fc1 = nn.Linear(16 * 16 * 16, 10)\n",
        "\n",
        "    def forward(self, x):\n",
        "        x = self.pool(self.relu(self.conv1(x)))\n",
        "        x = x.view(-1, 16 * 16 * 16)\n",
        "        x = self.fc1(x)\n",
        "        return x"
      ],
      "metadata": {
        "id": "SQPosUboqayE"
      },
      "execution_count": 6,
      "outputs": []
    },
    {
      "cell_type": "code",
      "source": [
        "# Define the second CNN architecture\n",
        "class CNN2(nn.Module):\n",
        "    def __init__(self):\n",
        "        super(CNN2, self).__init__()\n",
        "        self.conv1 = nn.Conv2d(3, 32, 3, padding=1)\n",
        "        self.relu = nn.ReLU()\n",
        "        self.pool = nn.MaxPool2d(2, 2)\n",
        "        self.conv2 = nn.Conv2d(32, 64, 3, padding=1)\n",
        "        self.fc1 = nn.Linear(64 * 8 * 8,512)\n",
        "        self.fc2 = nn.Linear(512, 10)\n",
        "\n",
        "    def forward(self, x):\n",
        "        x = self.pool(self.relu(self.conv1(x)))\n",
        "        x = self.pool(self.relu(self.conv2(x)))\n",
        "        x = x.view(-1, 64 * 8 * 8)\n",
        "        x = self.fc1(x)\n",
        "        x = self.fc2(x)\n",
        "        return x"
      ],
      "metadata": {
        "id": "QgzuUt3Yq6KW"
      },
      "execution_count": 7,
      "outputs": []
    },
    {
      "cell_type": "code",
      "source": [
        "# Define the third CNN architecture\n",
        "class CNN3(nn.Module):\n",
        "    def __init__(self):\n",
        "        super(CNN3, self).__init__()\n",
        "        self.conv1 = nn.Conv2d(3, 32, 3, padding=1)\n",
        "        self.relu = nn.ReLU()\n",
        "        self.pool = nn.MaxPool2d(2, 2)\n",
        "        self.conv2 = nn.Conv2d(32, 64, 3, padding=1)\n",
        "        self.conv3 = nn.Conv2d(64, 128, 3, padding=1)\n",
        "        self.fc1 = nn.Linear(128 * 4 * 4, 10)\n",
        "\n",
        "    def forward(self, x):\n",
        "        x = self.pool(self.relu(self.conv1(x)))\n",
        "        x = self.pool(self.relu(self.conv2(x)))\n",
        "        x = self.pool(self.relu(self.conv3(x)))\n",
        "        x = x.view(-1, 128 * 4 * 4)\n",
        "        x = self.fc1(x)\n",
        "        return x"
      ],
      "metadata": {
        "id": "NgloscA1rDpF"
      },
      "execution_count": 8,
      "outputs": []
    },
    {
      "cell_type": "code",
      "source": [
        "# Define the fourth CNN architecture\n",
        "class CNN4(nn.Module):\n",
        "    def __init__(self):\n",
        "        super(CNN4, self).__init__()\n",
        "        self.conv1 = nn.Conv2d(3, 64, 3, padding=1)\n",
        "        self.relu = nn.ReLU()\n",
        "        self.pool = nn.MaxPool2d(2, 2)\n",
        "        self.conv2 = nn.Conv2d(64, 128, 3, padding=1)\n",
        "        self.conv3 = nn.Conv2d(128, 256, 3, padding=1)\n",
        "        self.fc1 = nn.Linear(256 * 4 * 4, 512)\n",
        "        self.fc2 = nn.Linear(512, 10)\n",
        "\n",
        "    def forward(self, x):\n",
        "        x = self.pool(self.relu(self.conv1(x)))\n",
        "        x = self.pool(self.relu(self.conv2(x)))\n",
        "        x = self.pool(self.relu(self.conv3(x)))\n",
        "        x = x.view(-1, 256 * 4 * 4)\n",
        "        x = self.relu(self.fc1(x))\n",
        "        x = self.fc2(x)\n",
        "        return x"
      ],
      "metadata": {
        "id": "TeCXMsfKrH39"
      },
      "execution_count": 9,
      "outputs": []
    },
    {
      "cell_type": "code",
      "source": [
        "# Define the fifth CNN architecture\n",
        "class CNN5(nn.Module):\n",
        "    def __init__(self):\n",
        "        super(CNN5, self).__init__()\n",
        "        self.conv1 = nn.Conv2d(3, 64, 3, padding=1)\n",
        "        self.bn1 = nn.BatchNorm2d(64)\n",
        "        self.relu = nn.ReLU()\n",
        "        self.pool = nn.MaxPool2d(2, 2)\n",
        "        self.conv2 = nn.Conv2d(64, 128, 3, padding=1)\n",
        "        self.bn2 = nn.BatchNorm2d(128)\n",
        "        self.conv3 = nn.Conv2d(128, 256, 3, padding=1)\n",
        "        self.bn3 = nn.BatchNorm2d(256)\n",
        "        self.fc1 = nn.Linear(256 * 4 * 4, 512)\n",
        "        self.fc2 = nn.Linear(512, 10)\n",
        "\n",
        "    def forward(self, x):\n",
        "        x = self.pool(self.relu(self.bn1(self.conv1(x))))\n",
        "        x = self.pool(self.relu(self.bn2(self.conv2(x))))\n",
        "        x = self.pool(self.relu(self.bn3(self.conv3(x))))\n",
        "        x = x.view(-1, 256 * 4 * 4)\n",
        "        x = self.relu(self.fc1(x))\n",
        "        x = self.fc2(x)\n",
        "        return x"
      ],
      "metadata": {
        "id": "SaDaAEFprL_J"
      },
      "execution_count": 11,
      "outputs": []
    },
    {
      "cell_type": "code",
      "source": [
        "# Create instances of the CNN architectures\n",
        "cnn1 = CNN1()\n",
        "cnn2 = CNN2()\n",
        "cnn3 = CNN3()\n",
        "cnn4 = CNN4()\n",
        "cnn5 = CNN5()"
      ],
      "metadata": {
        "id": "fc37gxherTcc"
      },
      "execution_count": 12,
      "outputs": []
    },
    {
      "cell_type": "code",
      "source": [
        "# Define the loss function and optimizer\n",
        "criterion = nn.CrossEntropyLoss()\n",
        "optimizer1 = optim.SGD(cnn1.parameters(), lr=0.001, momentum=0.9)\n",
        "optimizer2 = optim.SGD(cnn2.parameters(), lr=0.001, momentum=0.9)\n",
        "optimizer3 = optim.SGD(cnn3.parameters(), lr=0.001, momentum=0.9)\n",
        "optimizer4 = optim.SGD(cnn4.parameters(), lr=0.001, momentum=0.9)\n",
        "optimizer5 = optim.SGD(cnn5.parameters(), lr=0.001, momentum=0.9)"
      ],
      "metadata": {
        "id": "xxRBzCI4rWPE"
      },
      "execution_count": 13,
      "outputs": []
    },
    {
      "cell_type": "code",
      "source": [
        "# Train and evaluate the CNN architectures\n",
        "print(\"CNN1 - Number of parameters: \", count_parameters(cnn1))\n",
        "train_model(cnn1, criterion, optimizer1)\n",
        "test_accuracy_cnn1 = test_model(cnn1)\n",
        "\n",
        "print(\"CNN2 - Number of parameters: \", count_parameters(cnn2))\n",
        "train_model(cnn2, criterion, optimizer2)\n",
        "test_accuracy_cnn2 = test_model(cnn2)\n",
        "\n",
        "print(\"CNN3 - Number of parameters: \", count_parameters(cnn3))\n",
        "train_model(cnn3, criterion, optimizer3)\n",
        "test_accuracy_cnn3 = test_model(cnn3)\n",
        "\n",
        "print(\"CNN4 - Number of parameters: \", count_parameters(cnn4))\n",
        "train_model(cnn4, criterion, optimizer4)\n",
        "test_accuracy_cnn4 = test_model(cnn4)\n",
        "\n",
        "print(\"CNN5 - Number of parameters: \", count_parameters(cnn5))\n",
        "train_model(cnn5, criterion, optimizer5)\n",
        "test_accuracy_cnn5 = test_model(cnn5)"
      ],
      "metadata": {
        "colab": {
          "base_uri": "https://localhost:8080/"
        },
        "id": "fk1e9fuGraX7",
        "outputId": "88b0c41e-c0be-44ea-f41c-ba0b1e1216e5"
      },
      "execution_count": 14,
      "outputs": [
        {
          "output_type": "stream",
          "name": "stdout",
          "text": [
            "CNN1 - Number of parameters:  41418\n",
            "Epoch 1 Loss: 2.024\n",
            "Epoch 2 Loss: 1.841\n",
            "Epoch 3 Loss: 1.736\n",
            "Epoch 4 Loss: 1.659\n",
            "Epoch 5 Loss: 1.604\n",
            "Epoch 6 Loss: 1.560\n",
            "Epoch 7 Loss: 1.526\n",
            "Epoch 8 Loss: 1.503\n",
            "Epoch 9 Loss: 1.483\n",
            "Epoch 10 Loss: 1.472\n",
            "Test Accuracy: 48.10%\n",
            "CNN2 - Number of parameters:  2122186\n",
            "Epoch 1 Loss: 2.174\n",
            "Epoch 2 Loss: 1.934\n",
            "Epoch 3 Loss: 1.826\n",
            "Epoch 4 Loss: 1.714\n",
            "Epoch 5 Loss: 1.622\n",
            "Epoch 6 Loss: 1.566\n",
            "Epoch 7 Loss: 1.517\n",
            "Epoch 8 Loss: 1.491\n",
            "Epoch 9 Loss: 1.461\n",
            "Epoch 10 Loss: 1.439\n",
            "Test Accuracy: 48.73%\n",
            "CNN3 - Number of parameters:  113738\n",
            "Epoch 1 Loss: 2.263\n",
            "Epoch 2 Loss: 2.066\n",
            "Epoch 3 Loss: 1.921\n",
            "Epoch 4 Loss: 1.798\n",
            "Epoch 5 Loss: 1.692\n",
            "Epoch 6 Loss: 1.619\n",
            "Epoch 7 Loss: 1.561\n",
            "Epoch 8 Loss: 1.520\n",
            "Epoch 9 Loss: 1.478\n",
            "Epoch 10 Loss: 1.449\n",
            "Test Accuracy: 47.11%\n",
            "CNN4 - Number of parameters:  2473610\n",
            "Epoch 1 Loss: 2.277\n",
            "Epoch 2 Loss: 2.091\n",
            "Epoch 3 Loss: 1.947\n",
            "Epoch 4 Loss: 1.844\n",
            "Epoch 5 Loss: 1.736\n",
            "Epoch 6 Loss: 1.648\n",
            "Epoch 7 Loss: 1.586\n",
            "Epoch 8 Loss: 1.542\n",
            "Epoch 9 Loss: 1.503\n",
            "Epoch 10 Loss: 1.465\n",
            "Test Accuracy: 47.96%\n",
            "CNN5 - Number of parameters:  2474506\n",
            "Epoch 1 Loss: 1.653\n",
            "Epoch 2 Loss: 1.286\n",
            "Epoch 3 Loss: 1.134\n",
            "Epoch 4 Loss: 1.044\n",
            "Epoch 5 Loss: 0.980\n",
            "Epoch 6 Loss: 0.931\n",
            "Epoch 7 Loss: 0.886\n",
            "Epoch 8 Loss: 0.846\n",
            "Epoch 9 Loss: 0.810\n",
            "Epoch 10 Loss: 0.780\n",
            "Test Accuracy: 72.42%\n"
          ]
        }
      ]
    },
    {
      "cell_type": "code",
      "source": [
        "# Comparison Table\n",
        "results = []\n"
      ],
      "metadata": {
        "id": "DqMxR-KZrvRe"
      },
      "execution_count": 15,
      "outputs": []
    },
    {
      "cell_type": "code",
      "source": [
        "# comparision of the CNN architectures\n",
        "\n",
        "results.append(['CNN1', count_parameters(cnn1), test_accuracy_cnn1])\n",
        "\n",
        "results.append(['CNN2', count_parameters(cnn2), test_accuracy_cnn2])\n",
        "\n",
        "results.append(['CNN3', count_parameters(cnn3), test_accuracy_cnn3])\n",
        "\n",
        "results.append(['CNN4', count_parameters(cnn4), test_accuracy_cnn4])\n",
        "\n",
        "results.append(['CNN5', count_parameters(cnn5), test_accuracy_cnn5])\n",
        "\n",
        "# Create DataFrame for comparison table\n",
        "df = pd.DataFrame(results, columns=['CNN Architecture', 'Number of Parameters', 'Test Accuracy'])\n",
        "\n",
        "# Print Comparison Table\n",
        "print(\"\\nComparison Table:\")\n",
        "print(df)"
      ],
      "metadata": {
        "colab": {
          "base_uri": "https://localhost:8080/"
        },
        "id": "KqG-anxgr-A0",
        "outputId": "884caf2b-e13f-46d8-af91-3c102197ecd9"
      },
      "execution_count": 16,
      "outputs": [
        {
          "output_type": "stream",
          "name": "stdout",
          "text": [
            "\n",
            "Comparison Table:\n",
            "  CNN Architecture  Number of Parameters Test Accuracy\n",
            "0             CNN1                 41418          None\n",
            "1             CNN2               2122186          None\n",
            "2             CNN3                113738          None\n",
            "3             CNN4               2473610          None\n",
            "4             CNN5               2474506          None\n"
          ]
        }
      ]
    }
  ]
}