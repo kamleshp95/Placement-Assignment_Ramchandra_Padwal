{
  "nbformat": 4,
  "nbformat_minor": 0,
  "metadata": {
    "colab": {
      "provenance": [],
      "gpuType": "T4"
    },
    "kernelspec": {
      "name": "python3",
      "display_name": "Python 3"
    },
    "language_info": {
      "name": "python"
    },
    "accelerator": "GPU"
  },
  "cells": [
    {
      "cell_type": "markdown",
      "source": [
        "**Question 2 -** <br>\n",
        "Implement 5 different CNN architectures with a comparison table for CIFAR 10\n",
        "dataset using the PyTorch library\n",
        "<br>**Note -**\n",
        "1. The model parameters for each architecture should not be more than 10000\n",
        "parameters\n",
        "2. Code comments should be given for proper code understanding"
      ],
      "metadata": {
        "id": "bhVNkN1hEJ6t"
      }
    },
    {
      "cell_type": "markdown",
      "source": [
        "**Ans**"
      ],
      "metadata": {
        "id": "Zu6gIzWaEWx9"
      }
    },
    {
      "cell_type": "code",
      "execution_count": 1,
      "metadata": {
        "id": "sKOyajrkED6b"
      },
      "outputs": [],
      "source": [
        "#import necessary libraries\n",
        "import torch\n",
        "import torch.nn as nn\n",
        "import torch.optim as optim\n",
        "import torchvision\n",
        "import torchvision.transforms as transforms"
      ]
    },
    {
      "cell_type": "code",
      "source": [
        "# Device configuration\n",
        "device = torch.device('cuda' if torch.cuda.is_available() else 'cpu')"
      ],
      "metadata": {
        "id": "OLLY2ZYDEgjl"
      },
      "execution_count": 2,
      "outputs": []
    },
    {
      "cell_type": "code",
      "source": [
        "# Hyperparameters\n",
        "num_epochs = 10\n",
        "batch_size = 100\n",
        "learning_rate = 0.001"
      ],
      "metadata": {
        "id": "BupBCqTVEjP1"
      },
      "execution_count": 3,
      "outputs": []
    },
    {
      "cell_type": "code",
      "source": [
        "# CIFAR-10 dataset\n",
        "transform = transforms.Compose(\n",
        "    [transforms.ToTensor(),\n",
        "     transforms.Normalize((0.5, 0.5, 0.5), (0.5, 0.5, 0.5))])\n",
        "\n",
        "train_dataset = torchvision.datasets.CIFAR10(root='./data', train=True,\n",
        "                                             download=True, transform=transform)\n",
        "test_dataset = torchvision.datasets.CIFAR10(root='./data', train=False,\n",
        "                                            download=True, transform=transform)\n",
        "\n",
        "train_loader = torch.utils.data.DataLoader(train_dataset, batch_size=batch_size,\n",
        "                                           shuffle=True)\n",
        "test_loader = torch.utils.data.DataLoader(test_dataset, batch_size=batch_size,\n",
        "                                          shuffle=False)"
      ],
      "metadata": {
        "colab": {
          "base_uri": "https://localhost:8080/"
        },
        "id": "_bDxfcJhEllt",
        "outputId": "66a7891f-38f0-477a-8b7a-45ab900a5e78"
      },
      "execution_count": 4,
      "outputs": [
        {
          "output_type": "stream",
          "name": "stdout",
          "text": [
            "Files already downloaded and verified\n",
            "Files already downloaded and verified\n"
          ]
        }
      ]
    },
    {
      "cell_type": "code",
      "source": [
        "# Function to count the number of parameters in a model\n",
        "def count_parameters(model):\n",
        "    return sum(p.numel() for p in model.parameters() if p.requires_grad)"
      ],
      "metadata": {
        "id": "_qUb-cxlEo3N"
      },
      "execution_count": 5,
      "outputs": []
    },
    {
      "cell_type": "code",
      "source": [
        "# Define a CNN architecture\n",
        "class Net(nn.Module):\n",
        "    def __init__(self):\n",
        "        super(Net, self).__init__()\n",
        "        self.conv1 = nn.Conv2d(3, 4, kernel_size=3, stride=1, padding=1)\n",
        "        self.relu = nn.ReLU()\n",
        "        self.maxpool = nn.MaxPool2d(kernel_size=2, stride=2)\n",
        "        self.conv2 = nn.Conv2d(4, 8, kernel_size=3, stride=1, padding=1)\n",
        "        self.fc = nn.Linear(8 * 8 * 8, 10)\n",
        "\n",
        "    def forward(self, x):\n",
        "        out = self.conv1(x)\n",
        "        out = self.relu(out)\n",
        "        out = self.maxpool(out)\n",
        "        out = self.conv2(out)\n",
        "        out = self.relu(out)\n",
        "        out = self.maxpool(out)\n",
        "        out = out.view(out.size(0), -1)\n",
        "        out = self.fc(out)\n",
        "        return out"
      ],
      "metadata": {
        "id": "UDjHcmvpEsCk"
      },
      "execution_count": 6,
      "outputs": []
    },
    {
      "cell_type": "code",
      "source": [
        "# Define the model architectures\n",
        "architectures = [\n",
        "    ('Architecture 1', Net()),\n",
        "    ('Architecture 2', nn.Sequential(\n",
        "        nn.Conv2d(3, 2, kernel_size=3, stride=1, padding=1),\n",
        "        nn.ReLU(),\n",
        "        nn.MaxPool2d(kernel_size=2, stride=2),\n",
        "        nn.Conv2d(2, 4, kernel_size=3, stride=1, padding=1),\n",
        "        nn.ReLU(),\n",
        "        nn.MaxPool2d(kernel_size=2, stride=2),\n",
        "        nn.Flatten(),\n",
        "        nn.Linear(4 * 8 * 8, 10)\n",
        "    )),\n",
        "    ('Architecture 3', nn.Sequential(\n",
        "        nn.Conv2d(3, 4, kernel_size=3, stride=1, padding=1),\n",
        "        nn.ReLU(),\n",
        "        nn.MaxPool2d(kernel_size=2, stride=2),\n",
        "        nn.Conv2d(4, 4, kernel_size=3, stride=1, padding=1),\n",
        "        nn.ReLU(),\n",
        "        nn.MaxPool2d(kernel_size=2, stride=2),\n",
        "        nn.Flatten(),\n",
        "        nn.Linear(4 * 8 * 8, 10)\n",
        "    )),\n",
        "    ('Architecture 4', nn.Sequential(\n",
        "        nn.Conv2d(3, 2, kernel_size=3, stride=1, padding=1),\n",
        "        nn.ReLU(),\n",
        "        nn.MaxPool2d(kernel_size=2, stride=2),\n",
        "        nn.Conv2d(2, 2, kernel_size=3, stride=1, padding=1),\n",
        "        nn.ReLU(),\n",
        "        nn.MaxPool2d(kernel_size=2, stride=2),\n",
        "        nn.Flatten(),\n",
        "        nn.Linear(2 * 8 * 8, 10)\n",
        "    )),\n",
        "    ('Architecture 5', nn.Sequential(\n",
        "        nn.Conv2d(3, 4, kernel_size=3, stride=1, padding=1),\n",
        "        nn.ReLU(),\n",
        "        nn.MaxPool2d(kernel_size=2, stride=2),\n",
        "        nn.Conv2d(4, 2, kernel_size=3, stride=1, padding=1),\n",
        "        nn.ReLU(),\n",
        "        nn.MaxPool2d(kernel_size=2, stride=2),\n",
        "        nn.Flatten(),\n",
        "        nn.Linear(2 * 8 * 8, 10)\n",
        "    ))\n",
        "]"
      ],
      "metadata": {
        "id": "lkdfoK2tEwAE"
      },
      "execution_count": 7,
      "outputs": []
    },
    {
      "cell_type": "code",
      "source": [
        "# Define the loss function and optimizer\n",
        "criterion = nn.CrossEntropyLoss()"
      ],
      "metadata": {
        "id": "PZC2s0eKE1U-"
      },
      "execution_count": 8,
      "outputs": []
    },
    {
      "cell_type": "code",
      "source": [
        "# Compare architectures\n",
        "comparison_table = []\n",
        "for name, model in architectures:\n",
        "    model = model.to(device)\n",
        "    optimizer = optim.Adam(model.parameters(), lr=learning_rate)\n",
        "    total_params = count_parameters(model)"
      ],
      "metadata": {
        "id": "Be7uKtvYH5AO"
      },
      "execution_count": 9,
      "outputs": []
    },
    {
      "cell_type": "code",
      "source": [
        "if total_params <= 10000:  # Check if total parameters are less than or equal to 10,000\n",
        "        # Training loop\n",
        "        for epoch in range(num_epochs):\n",
        "            total_loss = 0\n",
        "            correct = 0\n",
        "            total = 0\n",
        "            for images, labels in train_loader:\n",
        "                images = images.to(device)\n",
        "                labels = labels.to(device)\n",
        "\n",
        "                # Forward pass\n",
        "                outputs = model(images)\n",
        "                loss = criterion(outputs, labels)\n",
        "\n",
        "                # Backward and optimize\n",
        "                optimizer.zero_grad()\n",
        "                loss.backward()\n",
        "                optimizer.step()\n",
        "\n",
        "                total_loss += loss.item()\n",
        "                _, predicted = torch.max(outputs.data, 1)\n",
        "                total += labels.size(0)\n",
        "                correct += (predicted == labels).sum().item()\n",
        "\n",
        "                # Print epoch-wise accuracy and loss\n",
        "            print(f'Architecture: {name}, Epoch: {epoch+1}/{num_epochs}, Loss: {total_loss/len(train_loader):.4f}, Accuracy: {100*correct/total:.2f}%')\n",
        "\n",
        "# Test the model\n",
        "        model.eval()\n",
        "        with torch.no_grad():\n",
        "            correct = 0\n",
        "            total = 0\n",
        "            for images, labels in test_loader:\n",
        "                images = images.to(device)\n",
        "                labels = labels.to(device)\n",
        "                outputs = model(images)\n",
        "                _, predicted = torch.max(outputs.data, 1)\n",
        "                total += labels.size(0)\n",
        "                correct += (predicted == labels).sum().item()\n",
        "\n",
        "        accuracy = 100 * correct / total\n",
        "        comparison_table.append((name, total_params, accuracy))"
      ],
      "metadata": {
        "colab": {
          "base_uri": "https://localhost:8080/"
        },
        "id": "XjPrDH_1E4qn",
        "outputId": "5da221d8-a481-4457-f118-d2cd2b811deb"
      },
      "execution_count": 12,
      "outputs": [
        {
          "output_type": "stream",
          "name": "stdout",
          "text": [
            "Architecture: Architecture 5, Epoch: 1/10, Loss: 1.5443, Accuracy: 45.40%\n",
            "Architecture: Architecture 5, Epoch: 2/10, Loss: 1.5378, Accuracy: 45.52%\n",
            "Architecture: Architecture 5, Epoch: 3/10, Loss: 1.5322, Accuracy: 45.69%\n",
            "Architecture: Architecture 5, Epoch: 4/10, Loss: 1.5261, Accuracy: 45.93%\n",
            "Architecture: Architecture 5, Epoch: 5/10, Loss: 1.5195, Accuracy: 46.12%\n",
            "Architecture: Architecture 5, Epoch: 6/10, Loss: 1.5147, Accuracy: 46.29%\n",
            "Architecture: Architecture 5, Epoch: 7/10, Loss: 1.5097, Accuracy: 46.45%\n",
            "Architecture: Architecture 5, Epoch: 8/10, Loss: 1.5052, Accuracy: 46.47%\n",
            "Architecture: Architecture 5, Epoch: 9/10, Loss: 1.5022, Accuracy: 46.61%\n",
            "Architecture: Architecture 5, Epoch: 10/10, Loss: 1.4963, Accuracy: 46.76%\n"
          ]
        }
      ]
    },
    {
      "cell_type": "code",
      "source": [
        "# Print the comparison table\n",
        "print(\"\\nComparison Table:\")\n",
        "print(\"-------------------------------------------------------------\")\n",
        "print(\"| Architecture    | Parameters    | Accuracy (%) |\")\n",
        "print(\"-------------------------------------------------------------\")\n",
        "for name, params, accuracy in comparison_table:\n",
        "    print(f\"| {name:<15} | {params:<13} | {accuracy:<12.2f} |\")\n",
        "print(\"-------------------------------------------------------------\")"
      ],
      "metadata": {
        "colab": {
          "base_uri": "https://localhost:8080/"
        },
        "id": "IOaj8MFmFCEv",
        "outputId": "0603b20d-88a7-4aae-8135-b5c2e32346c9"
      },
      "execution_count": 13,
      "outputs": [
        {
          "output_type": "stream",
          "name": "stdout",
          "text": [
            "\n",
            "Comparison Table:\n",
            "-------------------------------------------------------------\n",
            "| Architecture    | Parameters    | Accuracy (%) |\n",
            "-------------------------------------------------------------\n",
            "| Architecture 5  | 1476          | 45.81        |\n",
            "-------------------------------------------------------------\n"
          ]
        }
      ]
    }
  ]
}