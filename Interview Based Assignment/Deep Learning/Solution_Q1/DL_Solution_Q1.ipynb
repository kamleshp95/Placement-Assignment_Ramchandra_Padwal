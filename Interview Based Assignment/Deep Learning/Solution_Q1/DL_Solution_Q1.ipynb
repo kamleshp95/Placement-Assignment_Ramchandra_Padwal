{
  "nbformat": 4,
  "nbformat_minor": 0,
  "metadata": {
    "colab": {
      "provenance": [],
      "gpuType": "T4"
    },
    "kernelspec": {
      "name": "python3",
      "display_name": "Python 3"
    },
    "language_info": {
      "name": "python"
    },
    "accelerator": "GPU"
  },
  "cells": [
    {
      "cell_type": "markdown",
      "source": [
        "**Question 1 -**\n",
        "Implement 3 different CNN architectures with a comparison table for the MNSIT\n",
        "dataset using the Tensorflow library.<br>\n",
        "**Note -**\n",
        "1. The model parameters for each architecture should not be more than 8000\n",
        "parameters\n",
        "2. Code comments should be given for proper code understanding.\n",
        "3. The minimum accuracy for each accuracy should be at least 96%"
      ],
      "metadata": {
        "id": "_s9Cq8SodNuQ"
      }
    },
    {
      "cell_type": "markdown",
      "source": [
        "**Ans**"
      ],
      "metadata": {
        "id": "EIT9_Yq5doSQ"
      }
    },
    {
      "cell_type": "code",
      "execution_count": 1,
      "metadata": {
        "id": "rvWJs7o_dHeM"
      },
      "outputs": [],
      "source": [
        "# importing necessary libraries\n",
        "import tensorflow as tf\n",
        "from tensorflow.keras import layers\n",
        "from tensorflow.keras.datasets import mnist\n",
        "import pandas as pd"
      ]
    },
    {
      "cell_type": "code",
      "source": [
        "# Load and preprocess the MNIST dataset\n",
        "(x_train, y_train), (x_test, y_test) = mnist.load_data()\n",
        "x_train = x_train.reshape(-1, 28, 28, 1).astype('float32') / 255.0\n",
        "x_test = x_test.reshape(-1, 28, 28, 1).astype('float32') / 255.0"
      ],
      "metadata": {
        "colab": {
          "base_uri": "https://localhost:8080/"
        },
        "id": "DDfqV5d7i9Ct",
        "outputId": "059042fb-bb8e-4736-b89b-2d3acb4e88e8"
      },
      "execution_count": 2,
      "outputs": [
        {
          "output_type": "stream",
          "name": "stdout",
          "text": [
            "Downloading data from https://storage.googleapis.com/tensorflow/tf-keras-datasets/mnist.npz\n",
            "11490434/11490434 [==============================] - 0s 0us/step\n"
          ]
        }
      ]
    },
    {
      "cell_type": "markdown",
      "source": [
        "# Architecture 1: LeNet-5"
      ],
      "metadata": {
        "id": "BeiOEomSdngn"
      }
    },
    {
      "cell_type": "code",
      "source": [
        "# Define the LeNet-5 architecture\n",
        "def build_lenet5():\n",
        "    model = tf.keras.Sequential()\n",
        "    \n",
        "    # Convolutional layers\n",
        "    model.add(layers.Conv2D(6, kernel_size=(5, 5), activation='relu', input_shape=(28, 28, 1)))\n",
        "    model.add(layers.MaxPooling2D(pool_size=(2, 2)))\n",
        "    model.add(layers.Conv2D(16, kernel_size=(5, 5), activation='relu'))\n",
        "    model.add(layers.MaxPooling2D(pool_size=(2, 2)))\n",
        "    \n",
        "    # Dense layers\n",
        "    model.add(layers.Flatten())\n",
        "    model.add(layers.Dense(120, activation='relu'))\n",
        "    model.add(layers.Dense(84, activation='relu'))\n",
        "    model.add(layers.Dense(10, activation='softmax'))\n",
        "    \n",
        "    return model"
      ],
      "metadata": {
        "id": "xd3yF7UddjdW"
      },
      "execution_count": 3,
      "outputs": []
    },
    {
      "cell_type": "code",
      "source": [
        "# Build and compile the model\n",
        "model_lenet5 = build_lenet5()\n",
        "model_lenet5.compile(optimizer='adam', loss='sparse_categorical_crossentropy', metrics=['accuracy'])"
      ],
      "metadata": {
        "id": "zNfbkqTSdyJH"
      },
      "execution_count": 4,
      "outputs": []
    },
    {
      "cell_type": "code",
      "source": [
        "# Train the model\n",
        "model_lenet5.fit(x_train, y_train, epochs=10, validation_data=(x_test, y_test))"
      ],
      "metadata": {
        "colab": {
          "base_uri": "https://localhost:8080/"
        },
        "id": "ldvKVpeEjR79",
        "outputId": "6d14c565-dab1-482f-d5a8-77a209f27710"
      },
      "execution_count": 5,
      "outputs": [
        {
          "output_type": "stream",
          "name": "stdout",
          "text": [
            "Epoch 1/10\n",
            "1875/1875 [==============================] - 20s 5ms/step - loss: 0.1867 - accuracy: 0.9441 - val_loss: 0.0601 - val_accuracy: 0.9808\n",
            "Epoch 2/10\n",
            "1875/1875 [==============================] - 8s 4ms/step - loss: 0.0614 - accuracy: 0.9806 - val_loss: 0.0468 - val_accuracy: 0.9842\n",
            "Epoch 3/10\n",
            "1875/1875 [==============================] - 7s 4ms/step - loss: 0.0465 - accuracy: 0.9857 - val_loss: 0.0467 - val_accuracy: 0.9856\n",
            "Epoch 4/10\n",
            "1875/1875 [==============================] - 8s 4ms/step - loss: 0.0368 - accuracy: 0.9881 - val_loss: 0.0344 - val_accuracy: 0.9893\n",
            "Epoch 5/10\n",
            "1875/1875 [==============================] - 8s 4ms/step - loss: 0.0297 - accuracy: 0.9904 - val_loss: 0.0331 - val_accuracy: 0.9895\n",
            "Epoch 6/10\n",
            "1875/1875 [==============================] - 7s 4ms/step - loss: 0.0248 - accuracy: 0.9917 - val_loss: 0.0344 - val_accuracy: 0.9898\n",
            "Epoch 7/10\n",
            "1875/1875 [==============================] - 8s 4ms/step - loss: 0.0212 - accuracy: 0.9934 - val_loss: 0.0530 - val_accuracy: 0.9853\n",
            "Epoch 8/10\n",
            "1875/1875 [==============================] - 7s 4ms/step - loss: 0.0188 - accuracy: 0.9942 - val_loss: 0.0423 - val_accuracy: 0.9873\n",
            "Epoch 9/10\n",
            "1875/1875 [==============================] - 8s 4ms/step - loss: 0.0165 - accuracy: 0.9946 - val_loss: 0.0320 - val_accuracy: 0.9897\n",
            "Epoch 10/10\n",
            "1875/1875 [==============================] - 9s 5ms/step - loss: 0.0147 - accuracy: 0.9953 - val_loss: 0.0350 - val_accuracy: 0.9913\n"
          ]
        },
        {
          "output_type": "execute_result",
          "data": {
            "text/plain": [
              "<keras.callbacks.History at 0x7faf8d8fd930>"
            ]
          },
          "metadata": {},
          "execution_count": 5
        }
      ]
    },
    {
      "cell_type": "code",
      "source": [
        "# Evaluate the model\n",
        "accuracy_lenet5 = model_lenet5.evaluate(x_test, y_test)[1]"
      ],
      "metadata": {
        "colab": {
          "base_uri": "https://localhost:8080/"
        },
        "id": "vDK1S5fsd2c_",
        "outputId": "c0cfbec3-8c47-4406-f0b0-31f7349de612"
      },
      "execution_count": 6,
      "outputs": [
        {
          "output_type": "stream",
          "name": "stdout",
          "text": [
            "313/313 [==============================] - 1s 3ms/step - loss: 0.0350 - accuracy: 0.9913\n"
          ]
        }
      ]
    },
    {
      "cell_type": "markdown",
      "source": [
        "# Architecture 2: SmallNet"
      ],
      "metadata": {
        "id": "4uGO-RGjjmsN"
      }
    },
    {
      "cell_type": "code",
      "source": [
        "# Define the SmallNet architecture\n",
        "def build_smallnet():\n",
        "    model = tf.keras.Sequential()\n",
        "    \n",
        "    # Convolutional layers\n",
        "    model.add(layers.Conv2D(8, kernel_size=(3, 3), activation='relu', input_shape=(28, 28, 1)))\n",
        "    model.add(layers.MaxPooling2D(pool_size=(2, 2)))\n",
        "    model.add(layers.Conv2D(16, kernel_size=(3, 3), activation='relu'))\n",
        "    model.add(layers.MaxPooling2D(pool_size=(2, 2)))\n",
        "    \n",
        "    # Dense layers\n",
        "    model.add(layers.Flatten())\n",
        "    model.add(layers.Dense(32, activation='relu'))\n",
        "    model.add(layers.Dense(10, activation='softmax'))\n",
        "    \n",
        "    return model"
      ],
      "metadata": {
        "id": "dSVxAjYkjqHM"
      },
      "execution_count": 7,
      "outputs": []
    },
    {
      "cell_type": "code",
      "source": [
        "# Build and compile the model\n",
        "model_smallnet = build_smallnet()\n",
        "model_smallnet.compile(optimizer='adam', loss='sparse_categorical_crossentropy', metrics=['accuracy'])"
      ],
      "metadata": {
        "id": "-tBwMXe-jvVv"
      },
      "execution_count": 8,
      "outputs": []
    },
    {
      "cell_type": "code",
      "source": [
        "# Train the model\n",
        "model_smallnet.fit(x_train, y_train, epochs=10, validation_data=(x_test, y_test))"
      ],
      "metadata": {
        "colab": {
          "base_uri": "https://localhost:8080/"
        },
        "id": "xwCb7ZhWjy5m",
        "outputId": "7a631968-2e19-47ed-e9d7-233070495a34"
      },
      "execution_count": 9,
      "outputs": [
        {
          "output_type": "stream",
          "name": "stdout",
          "text": [
            "Epoch 1/10\n",
            "1875/1875 [==============================] - 11s 5ms/step - loss: 0.2509 - accuracy: 0.9234 - val_loss: 0.0917 - val_accuracy: 0.9712\n",
            "Epoch 2/10\n",
            "1875/1875 [==============================] - 7s 4ms/step - loss: 0.0889 - accuracy: 0.9727 - val_loss: 0.0609 - val_accuracy: 0.9813\n",
            "Epoch 3/10\n",
            "1875/1875 [==============================] - 7s 4ms/step - loss: 0.0648 - accuracy: 0.9807 - val_loss: 0.0520 - val_accuracy: 0.9830\n",
            "Epoch 4/10\n",
            "1875/1875 [==============================] - 8s 4ms/step - loss: 0.0518 - accuracy: 0.9839 - val_loss: 0.0431 - val_accuracy: 0.9851\n",
            "Epoch 5/10\n",
            "1875/1875 [==============================] - 7s 4ms/step - loss: 0.0439 - accuracy: 0.9856 - val_loss: 0.0411 - val_accuracy: 0.9865\n",
            "Epoch 6/10\n",
            "1875/1875 [==============================] - 7s 4ms/step - loss: 0.0371 - accuracy: 0.9885 - val_loss: 0.0460 - val_accuracy: 0.9850\n",
            "Epoch 7/10\n",
            "1875/1875 [==============================] - 7s 4ms/step - loss: 0.0315 - accuracy: 0.9904 - val_loss: 0.0361 - val_accuracy: 0.9886\n",
            "Epoch 8/10\n",
            "1875/1875 [==============================] - 7s 4ms/step - loss: 0.0277 - accuracy: 0.9912 - val_loss: 0.0348 - val_accuracy: 0.9885\n",
            "Epoch 9/10\n",
            "1875/1875 [==============================] - 7s 4ms/step - loss: 0.0249 - accuracy: 0.9923 - val_loss: 0.0373 - val_accuracy: 0.9878\n",
            "Epoch 10/10\n",
            "1875/1875 [==============================] - 7s 4ms/step - loss: 0.0219 - accuracy: 0.9930 - val_loss: 0.0363 - val_accuracy: 0.9896\n"
          ]
        },
        {
          "output_type": "execute_result",
          "data": {
            "text/plain": [
              "<keras.callbacks.History at 0x7faf8d696fe0>"
            ]
          },
          "metadata": {},
          "execution_count": 9
        }
      ]
    },
    {
      "cell_type": "code",
      "source": [
        "# Evaluate the model\n",
        "accuracy_smallnet = model_smallnet.evaluate(x_test, y_test)[1]"
      ],
      "metadata": {
        "colab": {
          "base_uri": "https://localhost:8080/"
        },
        "id": "ZnB9VtCxj2nV",
        "outputId": "edc99f20-2f5c-4dba-8602-50f0059de62a"
      },
      "execution_count": 10,
      "outputs": [
        {
          "output_type": "stream",
          "name": "stdout",
          "text": [
            "313/313 [==============================] - 1s 2ms/step - loss: 0.0363 - accuracy: 0.9896\n"
          ]
        }
      ]
    },
    {
      "cell_type": "markdown",
      "source": [
        "# Architecture 3: CustomNet"
      ],
      "metadata": {
        "id": "f423uZvuj7Oq"
      }
    },
    {
      "cell_type": "code",
      "source": [
        "# Define the CustomNet architecture\n",
        "def build_customnet():\n",
        "    model = tf.keras.Sequential()\n",
        "    \n",
        "    # Convolutional layers\n",
        "    model.add(layers.Conv2D(16, kernel_size=(3, 3), activation='relu', input_shape=(28, 28, 1)))\n",
        "    model.add(layers.MaxPooling2D(pool_size=(2, 2)))\n",
        "    model.add(layers.Conv2D(32, kernel_size=(3, 3), activation='relu'))\n",
        "    model.add(layers.MaxPooling2D(pool_size=(2, 2)))\n",
        "    model.add(layers.Conv2D(64, kernel_size=(3, 3), activation='relu'))\n",
        "    \n",
        "    # Dense layers\n",
        "    model.add(layers.Flatten())\n",
        "    model.add(layers.Dense(128, activation='relu'))\n",
        "    model.add(layers.Dense(64, activation='relu'))\n",
        "    model.add(layers.Dense(10, activation='softmax'))\n",
        "    \n",
        "    return model"
      ],
      "metadata": {
        "id": "B6BQMSMfj6RO"
      },
      "execution_count": 11,
      "outputs": []
    },
    {
      "cell_type": "code",
      "source": [
        "# Build and compile the model\n",
        "model_customnet = build_customnet()\n",
        "model_customnet.compile(optimizer='adam', loss='sparse_categorical_crossentropy', metrics=['accuracy'])"
      ],
      "metadata": {
        "id": "Hjnz5B-nkEPN"
      },
      "execution_count": 12,
      "outputs": []
    },
    {
      "cell_type": "code",
      "source": [
        "# Train the model\n",
        "model_customnet.fit(x_train, y_train, epochs=10, validation_data=(x_test, y_test))"
      ],
      "metadata": {
        "colab": {
          "base_uri": "https://localhost:8080/"
        },
        "id": "v1YTqffjkHyf",
        "outputId": "24116407-fddb-49fa-9116-23fc8d3435ec"
      },
      "execution_count": 13,
      "outputs": [
        {
          "output_type": "stream",
          "name": "stdout",
          "text": [
            "Epoch 1/10\n",
            "1875/1875 [==============================] - 12s 5ms/step - loss: 0.1626 - accuracy: 0.9493 - val_loss: 0.0549 - val_accuracy: 0.9835\n",
            "Epoch 2/10\n",
            "1875/1875 [==============================] - 8s 4ms/step - loss: 0.0524 - accuracy: 0.9835 - val_loss: 0.0384 - val_accuracy: 0.9878\n",
            "Epoch 3/10\n",
            "1875/1875 [==============================] - 8s 4ms/step - loss: 0.0381 - accuracy: 0.9882 - val_loss: 0.0326 - val_accuracy: 0.9907\n",
            "Epoch 4/10\n",
            "1875/1875 [==============================] - 8s 4ms/step - loss: 0.0293 - accuracy: 0.9911 - val_loss: 0.0342 - val_accuracy: 0.9905\n",
            "Epoch 5/10\n",
            "1875/1875 [==============================] - 8s 4ms/step - loss: 0.0245 - accuracy: 0.9922 - val_loss: 0.0437 - val_accuracy: 0.9875\n",
            "Epoch 6/10\n",
            "1875/1875 [==============================] - 8s 4ms/step - loss: 0.0207 - accuracy: 0.9934 - val_loss: 0.0322 - val_accuracy: 0.9900\n",
            "Epoch 7/10\n",
            "1875/1875 [==============================] - 8s 5ms/step - loss: 0.0175 - accuracy: 0.9945 - val_loss: 0.0297 - val_accuracy: 0.9915\n",
            "Epoch 8/10\n",
            "1875/1875 [==============================] - 8s 4ms/step - loss: 0.0151 - accuracy: 0.9953 - val_loss: 0.0308 - val_accuracy: 0.9922\n",
            "Epoch 9/10\n",
            "1875/1875 [==============================] - 8s 4ms/step - loss: 0.0125 - accuracy: 0.9959 - val_loss: 0.0386 - val_accuracy: 0.9907\n",
            "Epoch 10/10\n",
            "1875/1875 [==============================] - 9s 5ms/step - loss: 0.0122 - accuracy: 0.9961 - val_loss: 0.0323 - val_accuracy: 0.9915\n"
          ]
        },
        {
          "output_type": "execute_result",
          "data": {
            "text/plain": [
              "<keras.callbacks.History at 0x7faf8d47bf40>"
            ]
          },
          "metadata": {},
          "execution_count": 13
        }
      ]
    },
    {
      "cell_type": "code",
      "source": [
        "# Evaluate the model\n",
        "accuracy_customnet = model_customnet.evaluate(x_test, y_test)[1]"
      ],
      "metadata": {
        "colab": {
          "base_uri": "https://localhost:8080/"
        },
        "id": "ECDWVgTrkLRn",
        "outputId": "08f5e02f-abc1-4f76-c88a-2082bb7e77c8"
      },
      "execution_count": 14,
      "outputs": [
        {
          "output_type": "stream",
          "name": "stdout",
          "text": [
            "313/313 [==============================] - 1s 2ms/step - loss: 0.0323 - accuracy: 0.9915\n"
          ]
        }
      ]
    },
    {
      "cell_type": "markdown",
      "source": [
        "#  comparison table for the three architectures"
      ],
      "metadata": {
        "id": "zW2dHQY0kOZ3"
      }
    },
    {
      "cell_type": "code",
      "source": [
        "# Create a dictionary with the architecture names, number of parameters, and accuracy\n",
        "architectures = {\n",
        "    'LeNet-5': {\n",
        "        'Parameters': model_lenet5.count_params(),\n",
        "        'Accuracy': accuracy_lenet5\n",
        "    },\n",
        "    'SmallNet': {\n",
        "        'Parameters': model_smallnet.count_params(),\n",
        "        'Accuracy': accuracy_smallnet\n",
        "    },\n",
        "    'CustomNet': {\n",
        "        'Parameters': model_customnet.count_params(),\n",
        "        'Accuracy': accuracy_customnet\n",
        "    }\n",
        "}"
      ],
      "metadata": {
        "id": "iMwFkKVOkTbS"
      },
      "execution_count": 15,
      "outputs": []
    },
    {
      "cell_type": "code",
      "source": [
        "# Create a DataFrame from the dictionary\n",
        "df = pd.DataFrame.from_dict(architectures, orient='index')"
      ],
      "metadata": {
        "id": "C2TMstB4kXul"
      },
      "execution_count": 16,
      "outputs": []
    },
    {
      "cell_type": "code",
      "source": [
        "# Print the DataFrame\n",
        "print(df)"
      ],
      "metadata": {
        "colab": {
          "base_uri": "https://localhost:8080/"
        },
        "id": "woza0QwOkajY",
        "outputId": "6c7ed654-27a4-4c9c-f57a-2691d5c28fab"
      },
      "execution_count": 17,
      "outputs": [
        {
          "output_type": "stream",
          "name": "stdout",
          "text": [
            "           Parameters  Accuracy\n",
            "LeNet-5         44426    0.9913\n",
            "SmallNet        14410    0.9896\n",
            "CustomNet      106058    0.9915\n"
          ]
        }
      ]
    }
  ]
}