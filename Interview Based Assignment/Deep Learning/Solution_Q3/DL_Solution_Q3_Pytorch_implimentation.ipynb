{
  "nbformat": 4,
  "nbformat_minor": 0,
  "metadata": {
    "colab": {
      "provenance": [],
      "gpuType": "T4"
    },
    "kernelspec": {
      "name": "python3",
      "display_name": "Python 3"
    },
    "language_info": {
      "name": "python"
    },
    "accelerator": "GPU"
  },
  "cells": [
    {
      "cell_type": "markdown",
      "source": [
        "**Question 3 -**<br>\n",
        "Train a Pure CNN with less than 10000 trainable parameters using the MNIST\n",
        "Dataset having minimum validation accuracy of 99.40%<br>\n",
        "**Note -**\n",
        "1. Code comments should be given for proper code understanding.\n",
        "2. Implement in both PyTorch and Tensorflow respectively"
      ],
      "metadata": {
        "id": "vhbVcFqrN5FL"
      }
    },
    {
      "cell_type": "markdown",
      "source": [
        "**Ans**"
      ],
      "metadata": {
        "id": "3rjVkIn7N9_r"
      }
    },
    {
      "cell_type": "code",
      "execution_count": 1,
      "metadata": {
        "id": "6X_xPj6uNtX1"
      },
      "outputs": [],
      "source": [
        "# PyTorch Implementation\n",
        "\n",
        "import torch\n",
        "import torch.nn as nn\n",
        "import torch.optim as optim\n",
        "import torchvision\n",
        "import torchvision.transforms as transforms"
      ]
    },
    {
      "cell_type": "code",
      "source": [
        "# Device configuration\n",
        "device = torch.device(\"cuda\" if torch.cuda.is_available() else \"cpu\")"
      ],
      "metadata": {
        "id": "bMLc4uNMOLuK"
      },
      "execution_count": 2,
      "outputs": []
    },
    {
      "cell_type": "code",
      "source": [
        "device"
      ],
      "metadata": {
        "colab": {
          "base_uri": "https://localhost:8080/"
        },
        "id": "L0d9bgltOOVB",
        "outputId": "82036f23-3f84-4d6e-b9be-66ad7964caa0"
      },
      "execution_count": 3,
      "outputs": [
        {
          "output_type": "execute_result",
          "data": {
            "text/plain": [
              "device(type='cuda')"
            ]
          },
          "metadata": {},
          "execution_count": 3
        }
      ]
    },
    {
      "cell_type": "code",
      "source": [
        "# Hyperparameters\n",
        "num_epochs = 10\n",
        "batch_size = 128\n",
        "learning_rate = 0.001"
      ],
      "metadata": {
        "id": "-pGEq7vQOPNv"
      },
      "execution_count": 4,
      "outputs": []
    },
    {
      "cell_type": "code",
      "source": [
        "# MNIST dataset\n",
        "transform = transforms.Compose([\n",
        "    transforms.ToTensor(),\n",
        "    transforms.Normalize((0.5,), (0.5,))\n",
        "])\n",
        "\n",
        "train_dataset = torchvision.datasets.MNIST(\n",
        "    root='./data', train=True, transform=transform, download=True\n",
        ")\n",
        "\n",
        "test_dataset = torchvision.datasets.MNIST(\n",
        "    root='./data', train=False, transform=transform, download=True\n",
        ")\n",
        "\n",
        "train_loader = torch.utils.data.DataLoader(\n",
        "    dataset=train_dataset, batch_size=batch_size, shuffle=True\n",
        ")\n",
        "\n",
        "test_loader = torch.utils.data.DataLoader(\n",
        "    dataset=test_dataset, batch_size=batch_size, shuffle=False\n",
        ")"
      ],
      "metadata": {
        "colab": {
          "base_uri": "https://localhost:8080/"
        },
        "id": "0xzDVUlLOSm3",
        "outputId": "7f566133-1f61-4f1d-f115-d3a99da3943c"
      },
      "execution_count": 5,
      "outputs": [
        {
          "output_type": "stream",
          "name": "stdout",
          "text": [
            "Downloading http://yann.lecun.com/exdb/mnist/train-images-idx3-ubyte.gz\n",
            "Downloading http://yann.lecun.com/exdb/mnist/train-images-idx3-ubyte.gz to ./data/MNIST/raw/train-images-idx3-ubyte.gz\n"
          ]
        },
        {
          "output_type": "stream",
          "name": "stderr",
          "text": [
            "100%|██████████| 9912422/9912422 [00:00<00:00, 86978657.37it/s]\n"
          ]
        },
        {
          "output_type": "stream",
          "name": "stdout",
          "text": [
            "Extracting ./data/MNIST/raw/train-images-idx3-ubyte.gz to ./data/MNIST/raw\n",
            "\n",
            "Downloading http://yann.lecun.com/exdb/mnist/train-labels-idx1-ubyte.gz\n",
            "Downloading http://yann.lecun.com/exdb/mnist/train-labels-idx1-ubyte.gz to ./data/MNIST/raw/train-labels-idx1-ubyte.gz\n"
          ]
        },
        {
          "output_type": "stream",
          "name": "stderr",
          "text": [
            "100%|██████████| 28881/28881 [00:00<00:00, 39253303.25it/s]\n"
          ]
        },
        {
          "output_type": "stream",
          "name": "stdout",
          "text": [
            "Extracting ./data/MNIST/raw/train-labels-idx1-ubyte.gz to ./data/MNIST/raw\n",
            "\n",
            "Downloading http://yann.lecun.com/exdb/mnist/t10k-images-idx3-ubyte.gz\n",
            "Downloading http://yann.lecun.com/exdb/mnist/t10k-images-idx3-ubyte.gz to ./data/MNIST/raw/t10k-images-idx3-ubyte.gz\n"
          ]
        },
        {
          "output_type": "stream",
          "name": "stderr",
          "text": [
            "100%|██████████| 1648877/1648877 [00:00<00:00, 25218666.32it/s]\n"
          ]
        },
        {
          "output_type": "stream",
          "name": "stdout",
          "text": [
            "Extracting ./data/MNIST/raw/t10k-images-idx3-ubyte.gz to ./data/MNIST/raw\n",
            "\n",
            "Downloading http://yann.lecun.com/exdb/mnist/t10k-labels-idx1-ubyte.gz\n",
            "Downloading http://yann.lecun.com/exdb/mnist/t10k-labels-idx1-ubyte.gz to ./data/MNIST/raw/t10k-labels-idx1-ubyte.gz\n"
          ]
        },
        {
          "output_type": "stream",
          "name": "stderr",
          "text": [
            "100%|██████████| 4542/4542 [00:00<00:00, 7332767.04it/s]\n"
          ]
        },
        {
          "output_type": "stream",
          "name": "stdout",
          "text": [
            "Extracting ./data/MNIST/raw/t10k-labels-idx1-ubyte.gz to ./data/MNIST/raw\n",
            "\n"
          ]
        }
      ]
    },
    {
      "cell_type": "code",
      "source": [
        "# Define the CNN model\n",
        "class PureCNN(nn.Module):\n",
        "    def __init__(self):\n",
        "        super(PureCNN, self).__init__()\n",
        "        self.conv1 = nn.Conv2d(1, 16, 3, 1, padding=1)\n",
        "        self.conv2 = nn.Conv2d(16, 32, 3, 1, padding=1)\n",
        "        self.fc1 = nn.Linear(32 * 7 * 7, 128)\n",
        "        self.fc2 = nn.Linear(128, 10)\n",
        "\n",
        "    def forward(self, x):\n",
        "        out = nn.functional.relu(self.conv1(x))\n",
        "        out = nn.functional.max_pool2d(out, 2)\n",
        "        out = nn.functional.relu(self.conv2(out))\n",
        "        out = nn.functional.max_pool2d(out, 2)\n",
        "        out = out.view(out.size(0), -1)\n",
        "        out = nn.functional.relu(self.fc1(out))\n",
        "        out = self.fc2(out)\n",
        "        return out"
      ],
      "metadata": {
        "id": "_3jH1Mf2OWEP"
      },
      "execution_count": 6,
      "outputs": []
    },
    {
      "cell_type": "code",
      "source": [
        "# Instantiate the model\n",
        "model = PureCNN().to(device)"
      ],
      "metadata": {
        "id": "EO2JHsQoOZr_"
      },
      "execution_count": 7,
      "outputs": []
    },
    {
      "cell_type": "code",
      "source": [
        "# Loss function and optimizer\n",
        "criterion = nn.CrossEntropyLoss()\n",
        "optimizer = optim.Adam(model.parameters(), lr=learning_rate)"
      ],
      "metadata": {
        "id": "-Sl7nB69OcDI"
      },
      "execution_count": 8,
      "outputs": []
    },
    {
      "cell_type": "code",
      "source": [
        "# Train the model\n",
        "total_step = len(train_loader)\n",
        "for epoch in range(num_epochs):\n",
        "    for i, (images, labels) in enumerate(train_loader):\n",
        "        images = images.to(device)\n",
        "        labels = labels.to(device)\n",
        "\n",
        "        # Forward pass\n",
        "        outputs = model(images)\n",
        "        loss = criterion(outputs, labels)\n",
        "\n",
        "        # Backward and optimize\n",
        "        optimizer.zero_grad()\n",
        "        loss.backward()\n",
        "        optimizer.step()\n",
        "\n",
        "        if (i + 1) % 100 == 0:\n",
        "            print(f\"Epoch [{epoch + 1}/{num_epochs}], Step [{i + 1}/{total_step}], Loss: {loss.item():.4f}\")"
      ],
      "metadata": {
        "colab": {
          "base_uri": "https://localhost:8080/"
        },
        "id": "P6oJrJwiOgFI",
        "outputId": "2d86c028-43e7-4675-ae46-24fa856fef2a"
      },
      "execution_count": 9,
      "outputs": [
        {
          "output_type": "stream",
          "name": "stdout",
          "text": [
            "Epoch [1/10], Step [100/469], Loss: 0.2155\n",
            "Epoch [1/10], Step [200/469], Loss: 0.1197\n",
            "Epoch [1/10], Step [300/469], Loss: 0.0905\n",
            "Epoch [1/10], Step [400/469], Loss: 0.1175\n",
            "Epoch [2/10], Step [100/469], Loss: 0.1786\n",
            "Epoch [2/10], Step [200/469], Loss: 0.0389\n",
            "Epoch [2/10], Step [300/469], Loss: 0.0321\n",
            "Epoch [2/10], Step [400/469], Loss: 0.0313\n",
            "Epoch [3/10], Step [100/469], Loss: 0.0296\n",
            "Epoch [3/10], Step [200/469], Loss: 0.0137\n",
            "Epoch [3/10], Step [300/469], Loss: 0.0244\n",
            "Epoch [3/10], Step [400/469], Loss: 0.0505\n",
            "Epoch [4/10], Step [100/469], Loss: 0.0817\n",
            "Epoch [4/10], Step [200/469], Loss: 0.0303\n",
            "Epoch [4/10], Step [300/469], Loss: 0.0204\n",
            "Epoch [4/10], Step [400/469], Loss: 0.0549\n",
            "Epoch [5/10], Step [100/469], Loss: 0.0164\n",
            "Epoch [5/10], Step [200/469], Loss: 0.0224\n",
            "Epoch [5/10], Step [300/469], Loss: 0.0254\n",
            "Epoch [5/10], Step [400/469], Loss: 0.0492\n",
            "Epoch [6/10], Step [100/469], Loss: 0.0282\n",
            "Epoch [6/10], Step [200/469], Loss: 0.0369\n",
            "Epoch [6/10], Step [300/469], Loss: 0.0135\n",
            "Epoch [6/10], Step [400/469], Loss: 0.0499\n",
            "Epoch [7/10], Step [100/469], Loss: 0.0204\n",
            "Epoch [7/10], Step [200/469], Loss: 0.0100\n",
            "Epoch [7/10], Step [300/469], Loss: 0.0062\n",
            "Epoch [7/10], Step [400/469], Loss: 0.0105\n",
            "Epoch [8/10], Step [100/469], Loss: 0.0117\n",
            "Epoch [8/10], Step [200/469], Loss: 0.0066\n",
            "Epoch [8/10], Step [300/469], Loss: 0.0574\n",
            "Epoch [8/10], Step [400/469], Loss: 0.0030\n",
            "Epoch [9/10], Step [100/469], Loss: 0.0038\n",
            "Epoch [9/10], Step [200/469], Loss: 0.0020\n",
            "Epoch [9/10], Step [300/469], Loss: 0.0128\n",
            "Epoch [9/10], Step [400/469], Loss: 0.0032\n",
            "Epoch [10/10], Step [100/469], Loss: 0.0017\n",
            "Epoch [10/10], Step [200/469], Loss: 0.0054\n",
            "Epoch [10/10], Step [300/469], Loss: 0.0425\n",
            "Epoch [10/10], Step [400/469], Loss: 0.0225\n"
          ]
        }
      ]
    },
    {
      "cell_type": "code",
      "source": [
        "# Test the model\n",
        "model.eval()\n",
        "with torch.no_grad():\n",
        "    correct = 0\n",
        "    total = 0\n",
        "    for images, labels in test_loader:\n",
        "        images = images.to(device)\n",
        "        labels = labels.to(device)\n",
        "        outputs = model(images)\n",
        "        _, predicted = torch.max(outputs.data, 1)\n",
        "        total += labels.size(0)\n",
        "        correct += (predicted == labels).sum().item()\n",
        "\n",
        "    accuracy = 100 * correct / total\n",
        "    print(f\"Test Accuracy: {accuracy:.2f}%\")"
      ],
      "metadata": {
        "colab": {
          "base_uri": "https://localhost:8080/"
        },
        "id": "R4hNocreOjm3",
        "outputId": "ae0f90ad-4900-4c06-fe56-b4e7ccb37aee"
      },
      "execution_count": 10,
      "outputs": [
        {
          "output_type": "stream",
          "name": "stdout",
          "text": [
            "Test Accuracy: 98.96%\n"
          ]
        }
      ]
    }
  ]
}