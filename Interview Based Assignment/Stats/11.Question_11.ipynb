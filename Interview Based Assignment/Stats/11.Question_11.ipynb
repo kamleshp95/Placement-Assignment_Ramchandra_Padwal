{
 "cells": [
  {
   "cell_type": "markdown",
   "id": "acbd6309-0612-4c6b-bf38-4c4d69b45364",
   "metadata": {},
   "source": [
    "### a. Checking the distribution of all the classes:"
   ]
  },
  {
   "cell_type": "code",
   "execution_count": 1,
   "id": "a9731241-0de8-4c4e-8099-c6f41c1bc4c9",
   "metadata": {},
   "outputs": [
    {
     "name": "stdout",
     "output_type": "stream",
     "text": [
      "The distribution of classes is not the same.\n"
     ]
    }
   ],
   "source": [
    "import scipy.stats as stats\n",
    "\n",
    "# Extracting the blood pressure before and after values\n",
    "bp_before = [130, 142, 120, 135, 148, 122, 137, 130, 142, 128, 135, 140, 132, 145, 124, 128, 136, 143, 127, 139, 135, 131, 127, 130, 142, 128, 136, 140, 132, 145, 124, 128, 136, 143, 127, 139, 135, 131, 127, 130, 142, 128, 136, 140, 132, 145, 124, 128, 136, 143, 127, 139, 135, 131, 127, 130, 142, 128, 136, 140, 132, 145, 124, 128, 136, 143, 127, 139, 135, 131, 127, 130, 142, 128, 136, 140, 132, 145, 124, 128, 136, 143, 127, 139, 135, 131, 127, 130, 142, 128, 136, 140, 132, 145, 124, 128, 136, 143, 127, 139, 135, 131, 127, 130, 142, 128, 136, 140, 132, 145, 124, 128, 136, 143, 127, 139, 135]\n",
    "bp_after = [120, 135, 118, 127, 140, 118, 129, 124, 137, 125, 129, 132, 125, 136, 118, 122, 130, 139, 123, 132, 131, 126, 120, 123, 139, 122, 129, 136, 127, 140, 119, 121, 129, 137, 122, 135, 129, 124, 119, 124, 139, 123, 131, 135, 130, 125, 121, 124, 122, 129, 141, 118, 121, 129, 137, 123, 135, 130, 125, 121, 124, 124, 123, 119, 124, 139, 123, 131, 135, 130, 125, 121, 124, 122, 129, 141, 118, 121, 129, 137, 123, 135, 130, 125, 121, 124, 124, 123, 119, 124, 139, 123, 131, 135, 130, 125, 121, 124, 122, 129, 141, 118, 121, 129, 137, 123, 135, 130, 125, 121, 124, 124, 123, 119, 124, 139, 123, 131, 135, 130, 125, 121]\n",
    "\n",
    "# Perform one-way ANOVA test\n",
    "_, p_value = stats.f_oneway(bp_before, bp_after)\n",
    "\n",
    "# Check the p-value\n",
    "if p_value < 0.05:\n",
    "    print(\"The distribution of classes is not the same.\")\n",
    "else:\n",
    "    print(\"The distribution of classes is the same.\")"
   ]
  },
  {
   "cell_type": "markdown",
   "id": "04ccb52a-5174-4d4d-a082-5710ffb8f3a8",
   "metadata": {},
   "source": [
    "### b. Checking the equality of variance:"
   ]
  },
  {
   "cell_type": "code",
   "execution_count": 2,
   "id": "2f8f22cb-7e74-4b63-a371-76b29cd6443f",
   "metadata": {},
   "outputs": [
    {
     "name": "stdout",
     "output_type": "stream",
     "text": [
      "The variances are equal.\n"
     ]
    }
   ],
   "source": [
    "# Perform Levene's test for equality of variances\n",
    "_, p_value = stats.levene(bp_before, bp_after)\n",
    "\n",
    "# Check the p-value\n",
    "if p_value > 0.05:\n",
    "    print(\"The variances are equal.\")\n",
    "else:\n",
    "    print(\"The variances are not equal.\")"
   ]
  },
  {
   "cell_type": "markdown",
   "id": "efca0f27-cb83-46cb-9ac2-3a56d5b2c7a4",
   "metadata": {},
   "source": [
    "### c. Determining which algorithm (LDA or QDA) would perform better for classification:"
   ]
  },
  {
   "cell_type": "code",
   "execution_count": 3,
   "id": "79db8463-5748-453b-bc4b-c0452d502cff",
   "metadata": {},
   "outputs": [
    {
     "name": "stdout",
     "output_type": "stream",
     "text": [
      "Both LDA and QDA perform equally well for classification.\n"
     ]
    }
   ],
   "source": [
    "import numpy as np\n",
    "from sklearn.discriminant_analysis import LinearDiscriminantAnalysis, QuadraticDiscriminantAnalysis\n",
    "from sklearn.model_selection import cross_val_score\n",
    "\n",
    "# Creating the feature matrix and target variable\n",
    "X = np.array([[130, 120], [142, 135], [120, 118], [135, 127], [148, 140], [122, 118], [137, 129], [130, 124], [142, 137],\n",
    "              [128, 125], [135, 129], [140, 132], [132, 125], [145, 136], [124, 118], [128, 122], [136, 130],\n",
    "              [143, 139], [127, 123], [139, 132], [135, 131], [131, 126], [127, 120], [130, 123], [142, 139],\n",
    "              [128, 122], [136, 129], [140, 136], [132, 127], [145, 140], [124, 119], [128, 121], [136, 129],\n",
    "              [143, 137], [127, 122], [139, 135], [135, 129], [131, 124], [127, 119], [130, 124], [142, 139],\n",
    "              [128, 123], [136, 131], [140, 135], [132, 127], [145, 141], [124, 118], [128, 121], [136, 129],\n",
    "              [143, 137], [127, 123], [139, 135], [135, 130], [131, 125], [127, 121], [130, 124], [142, 139],\n",
    "              [128, 123], [136, 131], [140, 136], [132, 127], [145, 141], [124, 118], [128, 121], [136, 129],\n",
    "              [143, 137], [127, 123], [139, 135], [135, 130], [131, 125], [127, 121], [130, 124], [128, 122],\n",
    "              [136, 129], [140, 135], [132, 127], [145, 141], [124, 118], [128, 121], [136, 129], [143, 137],\n",
    "              [127, 123], [139, 135], [135, 130], [131, 125], [127, 121], [130, 124], [142, 139], [128, 123],\n",
    "              [136, 131], [140, 136], [132, 127], [145, 141], [124, 118], [128, 121], [136, 129], [143, 137],\n",
    "              [127, 123], [139, 135], [135, 130]])\n",
    "\n",
    "y = np.array([0] * 50 + [1] * 50)\n",
    "\n",
    "# Creating and fitting the LDA model\n",
    "lda = LinearDiscriminantAnalysis()\n",
    "lda_scores = cross_val_score(lda, X, y, cv=5)  # 5-fold cross-validation\n",
    "lda_accuracy = np.mean(lda_scores)\n",
    "\n",
    "# Creating and fitting the QDA model\n",
    "qda = QuadraticDiscriminantAnalysis()\n",
    "qda_scores = cross_val_score(qda, X, y, cv=5)  # 5-fold cross-validation\n",
    "qda_accuracy = np.mean(qda_scores)\n",
    "\n",
    "# Comparing the accuracies\n",
    "if lda_accuracy > qda_accuracy:\n",
    "    print(\"LDA performs better for classification.\")\n",
    "elif lda_accuracy < qda_accuracy:\n",
    "    print(\"QDA performs better for classification.\")\n",
    "else:\n",
    "    print(\"Both LDA and QDA perform equally well for classification.\")\n"
   ]
  },
  {
   "cell_type": "markdown",
   "id": "531fea06-3f39-4c22-9ea1-f94d140855e2",
   "metadata": {},
   "source": [
    "### d. Checking the equality of mean between all the classes:"
   ]
  },
  {
   "cell_type": "code",
   "execution_count": 4,
   "id": "f256c17d-0625-4173-9181-352aa9193111",
   "metadata": {},
   "outputs": [
    {
     "name": "stdout",
     "output_type": "stream",
     "text": [
      "There are significant differences in the means of the classes.\n"
     ]
    }
   ],
   "source": [
    "# Perform one-way ANOVA test\n",
    "_, p_value = stats.f_oneway(bp_before, bp_after)\n",
    "\n",
    "# Check the p-value\n",
    "if p_value < 0.05:\n",
    "    print(\"There are significant differences in the means of the classes.\")\n",
    "else:\n",
    "    print(\"The means of the classes are equal.\")"
   ]
  }
 ],
 "metadata": {
  "kernelspec": {
   "display_name": "Python 3 (ipykernel)",
   "language": "python",
   "name": "python3"
  },
  "language_info": {
   "codemirror_mode": {
    "name": "ipython",
    "version": 3
   },
   "file_extension": ".py",
   "mimetype": "text/x-python",
   "name": "python",
   "nbconvert_exporter": "python",
   "pygments_lexer": "ipython3",
   "version": "3.10.6"
  }
 },
 "nbformat": 4,
 "nbformat_minor": 5
}
