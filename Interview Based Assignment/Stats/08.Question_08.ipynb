{
 "cells": [
  {
   "cell_type": "code",
   "execution_count": 1,
   "id": "f54636af-7847-47a1-87b4-8f14816a33a8",
   "metadata": {},
   "outputs": [
    {
     "name": "stdout",
     "output_type": "stream",
     "text": [
      "Wilcoxon signed-rank test p-value: 0.001953125\n",
      "The therapy had a significant effect on anxiety levels.\n"
     ]
    }
   ],
   "source": [
    "from scipy import stats\n",
    "\n",
    "# Data\n",
    "before_therapy = [10, 8, 12, 15, 6, 9, 11, 7, 14, 10]\n",
    "after_therapy = [7, 6, 10, 12, 5, 8, 9, 6, 12, 8]\n",
    "\n",
    "# Calculate the differences\n",
    "differences = [a - b for a, b in zip(after_therapy, before_therapy)]\n",
    "\n",
    "# Perform the Wilcoxon signed-rank test\n",
    "_, p_value = stats.wilcoxon(differences)\n",
    "\n",
    "alpha = 0.05\n",
    "\n",
    "print(f\"Wilcoxon signed-rank test p-value: {p_value}\")\n",
    "\n",
    "if p_value < alpha:\n",
    "    print(\"The therapy had a significant effect on anxiety levels.\")\n",
    "else:\n",
    "    print(\"The therapy did not have a significant effect on anxiety levels.\")"
   ]
  }
 ],
 "metadata": {
  "kernelspec": {
   "display_name": "Python 3 (ipykernel)",
   "language": "python",
   "name": "python3"
  },
  "language_info": {
   "codemirror_mode": {
    "name": "ipython",
    "version": 3
   },
   "file_extension": ".py",
   "mimetype": "text/x-python",
   "name": "python",
   "nbconvert_exporter": "python",
   "pygments_lexer": "ipython3",
   "version": "3.10.6"
  }
 },
 "nbformat": 4,
 "nbformat_minor": 5
}
