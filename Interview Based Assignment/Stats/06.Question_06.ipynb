{
 "cells": [
  {
   "cell_type": "code",
   "execution_count": 1,
   "id": "57ec782d-6d64-49e0-9051-bf80ebcdffb4",
   "metadata": {},
   "outputs": [],
   "source": [
    "import pandas as pd\n",
    "import matplotlib.pyplot as plt\n",
    "import scipy.stats as stats\n",
    "\n",
    "data = pd.read_csv(\"data.csv\")\n",
    "data.columns = [\"Patient ID\",\"Blood Pressure Before\",\"Blood Pressure After\"]\n",
    "data.drop(\"Patient ID\",axis=1,inplace=True)"
   ]
  },
  {
   "cell_type": "code",
   "execution_count": 2,
   "id": "6d44cb35-bb8c-4e71-a486-e6934c0b7fdb",
   "metadata": {},
   "outputs": [
    {
     "name": "stdout",
     "output_type": "stream",
     "text": [
      "Shapiro-Wilk Test - p-value: 0.0004\n",
      "The blood pressure changes do not follow a normal distribution.\n"
     ]
    }
   ],
   "source": [
    "blood_pressure_changes = data\n",
    "# Perform Shapiro-Wilk test for normality\n",
    "statistic, p_value = stats.shapiro(blood_pressure_changes)\n",
    "\n",
    "alpha = 0.05  # Set the significance level\n",
    "\n",
    "print(f\"Shapiro-Wilk Test - p-value: {p_value:.4f}\")\n",
    "\n",
    "if p_value > alpha:\n",
    "    print(\"The blood pressure changes follow a normal distribution.\")\n",
    "else:\n",
    "    print(\"The blood pressure changes do not follow a normal distribution.\")"
   ]
  }
 ],
 "metadata": {
  "kernelspec": {
   "display_name": "Python 3 (ipykernel)",
   "language": "python",
   "name": "python3"
  },
  "language_info": {
   "codemirror_mode": {
    "name": "ipython",
    "version": 3
   },
   "file_extension": ".py",
   "mimetype": "text/x-python",
   "name": "python",
   "nbconvert_exporter": "python",
   "pygments_lexer": "ipython3",
   "version": "3.10.6"
  }
 },
 "nbformat": 4,
 "nbformat_minor": 5
}
