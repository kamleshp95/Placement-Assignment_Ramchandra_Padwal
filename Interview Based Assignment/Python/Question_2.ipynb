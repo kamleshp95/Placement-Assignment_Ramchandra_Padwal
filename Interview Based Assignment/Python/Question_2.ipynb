{
 "cells": [
  {
   "attachments": {},
   "cell_type": "markdown",
   "metadata": {},
   "source": [
    "## Question 2: -\n",
    "\n",
    "Consider a string to be valid if all characters of the string appear the same number of times. It is also valid if\n",
    "he can remove just one character at the index in the string, and the remaining characters will occur the same\n",
    "number of times. Given a string, determine if it is valid. If so, return YES , otherwise return NO .\n",
    "\n",
    "**Note** - You have to write at least 2 additional test cases in which your program will run successfully and provide\n",
    "an explanation for the same.\n",
    "\n",
    "Example input 1 - s = “abc”. This is a valid string because frequencies are { “a”: 1, “b”: 1, “c”: 1 }\n",
    "\n",
    "Example output 1- YES\n",
    "\n",
    "Example input 2 - s “abcc”. This string is not valid as we can remove only 1 occurrence of “c”. That leaves\n",
    "character frequencies of { “a”: 1, “b”: 1 , “c”: 2 }\n",
    "\n",
    "Example output 2 - NO"
   ]
  },
  {
   "cell_type": "code",
   "execution_count": 13,
   "metadata": {},
   "outputs": [],
   "source": [
    "def valid_str(s):\n",
    "  str_list=list(s)\n",
    "  str_freq={}\n",
    "  str_freq={x:str_list.count(x) for x in str_list if x not in str_freq.keys()}\n",
    "  #convert the dictionary into a list    \n",
    "  freq_of_freq = list(str_freq.values())\n",
    "\n",
    "  #convert the list into a set\n",
    "  freq_of_freq_counts = set(freq_of_freq)\n",
    "\n",
    "  #if the set length is 1 the string is valid\n",
    "  if(len(freq_of_freq_counts)==1):\n",
    "      print(\"YES\")\n",
    "  else:\n",
    "      # determine the special case. \n",
    "      # it's valid if there are only 2 counts, \n",
    "      # AND one of them is countOfOtherOne+1:1\n",
    "      my_freq = {} \n",
    "\n",
    "      #build a dictionary\n",
    "      for item in freq_of_freq: \n",
    "        if (item in my_freq): \n",
    "          my_freq[item] += 1\n",
    "        else: \n",
    "          my_freq[item] = 1\n",
    "      #convert the values and keys into lists\n",
    "      theValues = list(my_freq.values())\n",
    "      theKeys = list(my_freq.keys())\n",
    "      \n",
    "      #if there are only 2 counts, check further, otherwise it's invalid\n",
    "      if(len(theValues) == 2):\n",
    "        #if you can remove 1 char from 1 index, it's met the special case\n",
    "        if( (theKeys[1] - theKeys[0] <= 1) and (theValues[1] == 1)):\n",
    "          print(\"YES\")\n",
    "        else:\n",
    "          print(\"NO\")\n",
    "      else:\n",
    "        print(\"NO\")\n",
    "\n",
    "      \n"
   ]
  },
  {
   "cell_type": "code",
   "execution_count": 14,
   "metadata": {},
   "outputs": [
    {
     "name": "stdout",
     "output_type": "stream",
     "text": [
      "YES\n"
     ]
    }
   ],
   "source": [
    "valid_str(\"abc\")"
   ]
  },
  {
   "attachments": {},
   "cell_type": "markdown",
   "metadata": {},
   "source": [
    "**In the above case string `abc` our result is YES because every character in the string appears same no of times**"
   ]
  },
  {
   "cell_type": "code",
   "execution_count": 15,
   "metadata": {},
   "outputs": [
    {
     "name": "stdout",
     "output_type": "stream",
     "text": [
      "YES\n"
     ]
    }
   ],
   "source": [
    "valid_str(\"abcc\")"
   ]
  },
  {
   "attachments": {},
   "cell_type": "markdown",
   "metadata": {},
   "source": [
    "**In the above case string `abcc` our result is YES because it's a special case where we remove one `c` from string our condition will satisfy**"
   ]
  },
  {
   "cell_type": "code",
   "execution_count": 16,
   "metadata": {},
   "outputs": [
    {
     "name": "stdout",
     "output_type": "stream",
     "text": [
      "NO\n"
     ]
    }
   ],
   "source": [
    "valid_str(\"abccc\")"
   ]
  },
  {
   "attachments": {},
   "cell_type": "markdown",
   "metadata": {},
   "source": [
    "**In the above case string `abccc` our result is NO because in this case where we remove one `c` from string then also our string doesn't meet our condition because the frequencies not match**"
   ]
  },
  {
   "cell_type": "code",
   "execution_count": 22,
   "metadata": {},
   "outputs": [
    {
     "name": "stdout",
     "output_type": "stream",
     "text": [
      "NO\n"
     ]
    }
   ],
   "source": [
    "valid_str(\"aabbcd\")"
   ]
  },
  {
   "attachments": {},
   "cell_type": "markdown",
   "metadata": {},
   "source": [
    "**In the above case string `abbcd` our result is NO because in this case where we remove any one `a` or `c` from string then also our string doesn't meet our condition because if we remove `a` then `b` has frequencies is not match with remaining or if we remove `b` then `a` has frequencies is not match with remaining as we have scope of removing only one character**"
   ]
  },
  {
   "cell_type": "code",
   "execution_count": 23,
   "metadata": {},
   "outputs": [
    {
     "name": "stdout",
     "output_type": "stream",
     "text": [
      "YES\n"
     ]
    }
   ],
   "source": [
    "valid_str(\"abcdeedcbae\")"
   ]
  },
  {
   "attachments": {},
   "cell_type": "markdown",
   "metadata": {},
   "source": [
    "**In the above case string `abcdeedcbae` our result is YES because  where we remove one `e` from string our condition will satisfy as after removing all characters in string will have same frequency of 2 each**"
   ]
  }
 ],
 "metadata": {
  "kernelspec": {
   "display_name": "base",
   "language": "python",
   "name": "python3"
  },
  "language_info": {
   "codemirror_mode": {
    "name": "ipython",
    "version": 3
   },
   "file_extension": ".py",
   "mimetype": "text/x-python",
   "name": "python",
   "nbconvert_exporter": "python",
   "pygments_lexer": "ipython3",
   "version": "3.9.16"
  },
  "orig_nbformat": 4
 },
 "nbformat": 4,
 "nbformat_minor": 2
}
