{
 "cells": [
  {
   "cell_type": "markdown",
   "id": "1aa29bef",
   "metadata": {},
   "source": [
    "## Question 6 : -\n",
    "Using the data from Question 3, write code to analyze the data and answer the following questions\n",
    "#### Note \n",
    "1. Draw plots to demonstrate the analysis for the following questions for better visualizations.\n",
    "2. Write code comments wherever required for code understanding\n",
    "\n",
    "#### Insights to be drawn -\n",
    "* Get all Pokemons whose spawn rate is less than 5%\n",
    "* Get all Pokemons that have less than 4 weaknesses\n",
    "* Get all Pokemons that have no multipliers at all\n",
    "* Get all Pokemons that do not have more than 2 evolutions\n",
    "* Get all Pokemons whose spawn time is less than 300 seconds.\n",
    "\n",
    "**Note** - spawn time format is \"05:32”, so assume “minute: second” format and perform the analysis.\n",
    "* Get all Pokemon who have more than two types of capabilities\n"
   ]
  },
  {
   "cell_type": "code",
   "execution_count": 1,
   "id": "69147a2d",
   "metadata": {},
   "outputs": [],
   "source": [
    "import numpy as np\n",
    "import pandas as pd\n",
    "import matplotlib.pyplot as plt\n",
    "import seaborn as sns"
   ]
  },
  {
   "cell_type": "code",
   "execution_count": 2,
   "id": "1dd30333",
   "metadata": {},
   "outputs": [
    {
     "data": {
      "text/html": [
       "<div>\n",
       "<style scoped>\n",
       "    .dataframe tbody tr th:only-of-type {\n",
       "        vertical-align: middle;\n",
       "    }\n",
       "\n",
       "    .dataframe tbody tr th {\n",
       "        vertical-align: top;\n",
       "    }\n",
       "\n",
       "    .dataframe thead th {\n",
       "        text-align: right;\n",
       "    }\n",
       "</style>\n",
       "<table border=\"1\" class=\"dataframe\">\n",
       "  <thead>\n",
       "    <tr style=\"text-align: right;\">\n",
       "      <th></th>\n",
       "      <th>id</th>\n",
       "      <th>num</th>\n",
       "      <th>name</th>\n",
       "      <th>img</th>\n",
       "      <th>type</th>\n",
       "      <th>height</th>\n",
       "      <th>weight</th>\n",
       "      <th>candy</th>\n",
       "      <th>candy_count</th>\n",
       "      <th>egg</th>\n",
       "      <th>spawn_chance</th>\n",
       "      <th>avg_spawns</th>\n",
       "      <th>spawn_time</th>\n",
       "      <th>multipliers</th>\n",
       "      <th>weakness</th>\n",
       "      <th>next_evolution</th>\n",
       "      <th>prev_evolution</th>\n",
       "    </tr>\n",
       "  </thead>\n",
       "  <tbody>\n",
       "    <tr>\n",
       "      <th>0</th>\n",
       "      <td>1</td>\n",
       "      <td>1</td>\n",
       "      <td>Bulbasaur</td>\n",
       "      <td>http://www.serebii.net/pokemongo/pokemon/001.png</td>\n",
       "      <td>Grass, Poison</td>\n",
       "      <td>0.71 m</td>\n",
       "      <td>6.9 kg</td>\n",
       "      <td>Bulbasaur Candy</td>\n",
       "      <td>25</td>\n",
       "      <td>2 km</td>\n",
       "      <td>0.690</td>\n",
       "      <td>69.0</td>\n",
       "      <td>20:00</td>\n",
       "      <td>1.58</td>\n",
       "      <td>Fire, Ice, Flying, Psychic</td>\n",
       "      <td>Ivysaur, Venusaur</td>\n",
       "      <td>NaN</td>\n",
       "    </tr>\n",
       "    <tr>\n",
       "      <th>1</th>\n",
       "      <td>2</td>\n",
       "      <td>2</td>\n",
       "      <td>Ivysaur</td>\n",
       "      <td>http://www.serebii.net/pokemongo/pokemon/002.png</td>\n",
       "      <td>Grass, Poison</td>\n",
       "      <td>0.99 m</td>\n",
       "      <td>13.0 kg</td>\n",
       "      <td>Bulbasaur Candy</td>\n",
       "      <td>100</td>\n",
       "      <td>Not in Eggs</td>\n",
       "      <td>0.042</td>\n",
       "      <td>4.2</td>\n",
       "      <td>07:00</td>\n",
       "      <td>1.2, 1.6</td>\n",
       "      <td>Fire, Ice, Flying, Psychic</td>\n",
       "      <td>Venusaur</td>\n",
       "      <td>Bulbasaur</td>\n",
       "    </tr>\n",
       "    <tr>\n",
       "      <th>2</th>\n",
       "      <td>3</td>\n",
       "      <td>3</td>\n",
       "      <td>Venusaur</td>\n",
       "      <td>http://www.serebii.net/pokemongo/pokemon/003.png</td>\n",
       "      <td>Grass, Poison</td>\n",
       "      <td>2.01 m</td>\n",
       "      <td>100.0 kg</td>\n",
       "      <td>Bulbasaur Candy</td>\n",
       "      <td>0</td>\n",
       "      <td>Not in Eggs</td>\n",
       "      <td>0.017</td>\n",
       "      <td>1.7</td>\n",
       "      <td>11:30</td>\n",
       "      <td>NaN</td>\n",
       "      <td>Fire, Ice, Flying, Psychic</td>\n",
       "      <td>NaN</td>\n",
       "      <td>Bulbasaur, Ivysaur</td>\n",
       "    </tr>\n",
       "    <tr>\n",
       "      <th>3</th>\n",
       "      <td>4</td>\n",
       "      <td>4</td>\n",
       "      <td>Charmander</td>\n",
       "      <td>http://www.serebii.net/pokemongo/pokemon/004.png</td>\n",
       "      <td>Fire</td>\n",
       "      <td>0.61 m</td>\n",
       "      <td>8.5 kg</td>\n",
       "      <td>Charmander Candy</td>\n",
       "      <td>25</td>\n",
       "      <td>2 km</td>\n",
       "      <td>0.253</td>\n",
       "      <td>25.3</td>\n",
       "      <td>08:45</td>\n",
       "      <td>1.65</td>\n",
       "      <td>Water, Ground, Rock</td>\n",
       "      <td>Charmeleon, Charizard</td>\n",
       "      <td>NaN</td>\n",
       "    </tr>\n",
       "    <tr>\n",
       "      <th>4</th>\n",
       "      <td>5</td>\n",
       "      <td>5</td>\n",
       "      <td>Charmeleon</td>\n",
       "      <td>http://www.serebii.net/pokemongo/pokemon/005.png</td>\n",
       "      <td>Fire</td>\n",
       "      <td>1.09 m</td>\n",
       "      <td>19.0 kg</td>\n",
       "      <td>Charmander Candy</td>\n",
       "      <td>100</td>\n",
       "      <td>Not in Eggs</td>\n",
       "      <td>0.012</td>\n",
       "      <td>1.2</td>\n",
       "      <td>19:00</td>\n",
       "      <td>1.79</td>\n",
       "      <td>Water, Ground, Rock</td>\n",
       "      <td>Charizard</td>\n",
       "      <td>Charmander</td>\n",
       "    </tr>\n",
       "  </tbody>\n",
       "</table>\n",
       "</div>"
      ],
      "text/plain": [
       "   id  num        name                                               img  \\\n",
       "0   1    1   Bulbasaur  http://www.serebii.net/pokemongo/pokemon/001.png   \n",
       "1   2    2     Ivysaur  http://www.serebii.net/pokemongo/pokemon/002.png   \n",
       "2   3    3    Venusaur  http://www.serebii.net/pokemongo/pokemon/003.png   \n",
       "3   4    4  Charmander  http://www.serebii.net/pokemongo/pokemon/004.png   \n",
       "4   5    5  Charmeleon  http://www.serebii.net/pokemongo/pokemon/005.png   \n",
       "\n",
       "            type  height    weight             candy  candy_count  \\\n",
       "0  Grass, Poison  0.71 m    6.9 kg   Bulbasaur Candy           25   \n",
       "1  Grass, Poison  0.99 m   13.0 kg   Bulbasaur Candy          100   \n",
       "2  Grass, Poison  2.01 m  100.0 kg   Bulbasaur Candy            0   \n",
       "3           Fire  0.61 m    8.5 kg  Charmander Candy           25   \n",
       "4           Fire  1.09 m   19.0 kg  Charmander Candy          100   \n",
       "\n",
       "           egg  spawn_chance  avg_spawns spawn_time multipliers  \\\n",
       "0         2 km         0.690        69.0      20:00        1.58   \n",
       "1  Not in Eggs         0.042         4.2      07:00    1.2, 1.6   \n",
       "2  Not in Eggs         0.017         1.7      11:30         NaN   \n",
       "3         2 km         0.253        25.3      08:45        1.65   \n",
       "4  Not in Eggs         0.012         1.2      19:00        1.79   \n",
       "\n",
       "                     weakness         next_evolution      prev_evolution  \n",
       "0  Fire, Ice, Flying, Psychic      Ivysaur, Venusaur                 NaN  \n",
       "1  Fire, Ice, Flying, Psychic               Venusaur           Bulbasaur  \n",
       "2  Fire, Ice, Flying, Psychic                    NaN  Bulbasaur, Ivysaur  \n",
       "3         Water, Ground, Rock  Charmeleon, Charizard                 NaN  \n",
       "4         Water, Ground, Rock              Charizard          Charmander  "
      ]
     },
     "execution_count": 2,
     "metadata": {},
     "output_type": "execute_result"
    }
   ],
   "source": [
    "df=pd.read_excel('pokemon_data.xlsx')\n",
    "df.head()"
   ]
  },
  {
   "cell_type": "code",
   "execution_count": 3,
   "id": "1a4fa7ec",
   "metadata": {},
   "outputs": [
    {
     "data": {
      "text/plain": [
       "(151, 17)"
      ]
     },
     "execution_count": 3,
     "metadata": {},
     "output_type": "execute_result"
    }
   ],
   "source": [
    "df.shape"
   ]
  },
  {
   "cell_type": "code",
   "execution_count": 4,
   "id": "c6911255",
   "metadata": {},
   "outputs": [
    {
     "data": {
      "text/plain": [
       "Index(['id', 'num', 'name', 'img', 'type', 'height', 'weight', 'candy',\n",
       "       'candy_count', 'egg', 'spawn_chance', 'avg_spawns', 'spawn_time',\n",
       "       'multipliers', 'weakness', 'next_evolution', 'prev_evolution'],\n",
       "      dtype='object')"
      ]
     },
     "execution_count": 4,
     "metadata": {},
     "output_type": "execute_result"
    }
   ],
   "source": [
    "df.columns"
   ]
  },
  {
   "cell_type": "code",
   "execution_count": 5,
   "id": "a151d602",
   "metadata": {},
   "outputs": [
    {
     "data": {
      "text/plain": [
       "151"
      ]
     },
     "execution_count": 5,
     "metadata": {},
     "output_type": "execute_result"
    }
   ],
   "source": [
    "df['name'].nunique()"
   ]
  },
  {
   "cell_type": "markdown",
   "id": "22a719f2",
   "metadata": {},
   "source": [
    "### Get all Pokemons whose spawn rate is less than 5%"
   ]
  },
  {
   "cell_type": "code",
   "execution_count": 6,
   "id": "f2b2dd4c",
   "metadata": {},
   "outputs": [],
   "source": [
    "pokemon_names=list(df[df['spawn_chance']<0.05]['name'])"
   ]
  },
  {
   "cell_type": "code",
   "execution_count": 7,
   "id": "9088a88e",
   "metadata": {},
   "outputs": [
    {
     "name": "stdout",
     "output_type": "stream",
     "text": [
      "Pokemons whose spawn rate is less than 5%:\n",
      "  ['Ivysaur', 'Venusaur', 'Charmeleon', 'Charizard', 'Wartortle', 'Blastoise', 'Butterfree', 'Raichu', 'Sandslash', 'Nidoqueen', 'Nidoking', 'Clefable', 'Ninetales', 'Wigglytuff', 'Vileplume', 'Dugtrio', 'Persian', 'Primeape', 'Arcanine', 'Poliwrath', 'Kadabra', 'Alakazam', 'Machoke', 'Machamp', 'Victreebel', 'Golem', 'Rapidash', 'Slowbro', 'Magneton', \"Farfetch'd\", 'Dewgong', 'Muk', 'Cloyster', 'Gengar', 'Electrode', 'Exeggutor', 'Marowak', 'Hitmonlee', 'Hitmonchan', 'Lickitung', 'Weezing', 'Rhydon', 'Chansey', 'Kangaskhan', 'Seadra', 'Starmie', 'Mr. Mime', 'Gyarados', 'Lapras', 'Ditto', 'Vaporeon', 'Jolteon', 'Flareon', 'Porygon', 'Omastar', 'Kabutops', 'Aerodactyl', 'Snorlax', 'Articuno', 'Zapdos', 'Moltres', 'Dragonair', 'Dragonite', 'Mewtwo', 'Mew'] 65\n"
     ]
    }
   ],
   "source": [
    "print('Pokemons whose spawn rate is less than 5%:\\n ',pokemon_names,len(pokemon_names))"
   ]
  },
  {
   "cell_type": "markdown",
   "id": "00716253",
   "metadata": {},
   "source": [
    "### Get all Pokemons that have less than 4 weaknesses"
   ]
  },
  {
   "cell_type": "code",
   "execution_count": 8,
   "id": "f4a238e8",
   "metadata": {},
   "outputs": [],
   "source": [
    "a=lambda x:len(x.split(',')) #function to split the weakness string to list of weakness"
   ]
  },
  {
   "cell_type": "code",
   "execution_count": 9,
   "id": "16fca6cd",
   "metadata": {},
   "outputs": [
    {
     "name": "stdout",
     "output_type": "stream",
     "text": [
      "Pokemons that have less than 4 weaknesses:\n",
      "  ['Charmander', 'Charmeleon', 'Charizard', 'Squirtle', 'Wartortle', 'Blastoise', 'Caterpie', 'Metapod', 'Pidgey', 'Pidgeotto', 'Pidgeot', 'Rattata', 'Raticate', 'Spearow', 'Fearow', 'Ekans', 'Arbok', 'Pikachu', 'Raichu', 'Sandshrew', 'Sandslash', 'Nidoran ♀ (Female)', 'Nidorina', 'Nidoran ♂ (Male)', 'Nidorino', 'Clefairy', 'Clefable', 'Vulpix', 'Ninetales', 'Jigglypuff', 'Wigglytuff', 'Diglett', 'Dugtrio', 'Meowth', 'Persian', 'Psyduck', 'Golduck', 'Mankey', 'Primeape', 'Growlithe', 'Arcanine', 'Poliwag', 'Poliwhirl', 'Abra', 'Kadabra', 'Alakazam', 'Machop', 'Machoke', 'Machamp', 'Tentacool', 'Tentacruel', 'Ponyta', 'Rapidash', 'Magnemite', 'Magneton', \"Farfetch'd\", 'Doduo', 'Dodrio', 'Seel', 'Grimer', 'Muk', 'Shellder', 'Drowzee', 'Hypno', 'Krabby', 'Kingler', 'Voltorb', 'Electrode', 'Cubone', 'Marowak', 'Hitmonlee', 'Hitmonchan', 'Lickitung', 'Koffing', 'Weezing', 'Chansey', 'Kangaskhan', 'Horsea', 'Seadra', 'Goldeen', 'Seaking', 'Staryu', 'Mr. Mime', 'Electabuzz', 'Magmar', 'Pinsir', 'Tauros', 'Magikarp', 'Gyarados', 'Ditto', 'Eevee', 'Vaporeon', 'Jolteon', 'Flareon', 'Porygon', 'Snorlax', 'Zapdos', 'Moltres', 'Dratini', 'Dragonair', 'Mewtwo', 'Mew'] 102\n"
     ]
    }
   ],
   "source": [
    "pokemon_names=list(df[df['weakness'].apply(a)<4]['name'])\n",
    "print('Pokemons that have less than 4 weaknesses:\\n ',pokemon_names,len(pokemon_names))"
   ]
  },
  {
   "cell_type": "markdown",
   "id": "c337fbfa",
   "metadata": {},
   "source": [
    "### Get all Pokemons that have no multipliers at all"
   ]
  },
  {
   "cell_type": "code",
   "execution_count": 10,
   "id": "a72607ee",
   "metadata": {},
   "outputs": [
    {
     "data": {
      "text/plain": [
       "array(['1.58', '1.2, 1.6', nan, '1.65', '1.79', '2.1', '1.4', '1.05',\n",
       "       '3.55, 3.79', '1.01, 1.09', '3.01, 3.41', '1.71, 1.92',\n",
       "       '2.55, 2.73', '2.66, 2.68', '2.21, 2.27', '2.34', '2.45',\n",
       "       '1.63, 2.48', '1.83, 2.48', '1.64, 1.7', '1.83', '2.03, 2.14',\n",
       "       '2.74, 2.81', '1.85', '2.6, 3.67', '1.5', '1.49', '2.02',\n",
       "       '1.86, 1.9', '2.69', '1.98', '2.27', '2.17, 2.28', '2.31, 2.36',\n",
       "       '1.72, 1.73', '1.95', '1.36, 1.95', '1.64, 1.65', '1.7', '1.57',\n",
       "       '1.59', '2.52', '1.75, 1.76', '1.64, 1.72', '1.48, 1.5', '2.21',\n",
       "       '2.16, 2.17', '2.19, 2.24', '1.04, 1.96', '2.44', '2.65', '1.78',\n",
       "       '1.56, 1.8', '2.08, 2.09', '2.36, 2.4', '2.01, 2.02', '2.7, 3.18',\n",
       "       '1.67', '1.11', '1.91', '2.23', '2.15, 2.2', '2.38, 2.41',\n",
       "       '10.1, 11.8', '2.02, 2.64', '2.12', '1.97, 2.37', '1.83, 1.84',\n",
       "       '2.05'], dtype=object)"
      ]
     },
     "execution_count": 10,
     "metadata": {},
     "output_type": "execute_result"
    }
   ],
   "source": [
    "df['multipliers'].unique()"
   ]
  },
  {
   "cell_type": "code",
   "execution_count": 11,
   "id": "75d44e42",
   "metadata": {},
   "outputs": [
    {
     "name": "stdout",
     "output_type": "stream",
     "text": [
      "Pokemons that have no multipliers at all:\n",
      "  ['Charmander', 'Charmeleon', 'Charizard', 'Squirtle', 'Wartortle', 'Blastoise', 'Caterpie', 'Metapod', 'Pidgey', 'Pidgeotto', 'Pidgeot', 'Rattata', 'Raticate', 'Spearow', 'Fearow', 'Ekans', 'Arbok', 'Pikachu', 'Raichu', 'Sandshrew', 'Sandslash', 'Nidoran ♀ (Female)', 'Nidorina', 'Nidoran ♂ (Male)', 'Nidorino', 'Clefairy', 'Clefable', 'Vulpix', 'Ninetales', 'Jigglypuff', 'Wigglytuff', 'Diglett', 'Dugtrio', 'Meowth', 'Persian', 'Psyduck', 'Golduck', 'Mankey', 'Primeape', 'Growlithe', 'Arcanine', 'Poliwag', 'Poliwhirl', 'Abra', 'Kadabra', 'Alakazam', 'Machop', 'Machoke', 'Machamp', 'Tentacool', 'Tentacruel', 'Ponyta', 'Rapidash', 'Magnemite', 'Magneton', \"Farfetch'd\", 'Doduo', 'Dodrio', 'Seel', 'Grimer', 'Muk', 'Shellder', 'Drowzee', 'Hypno', 'Krabby', 'Kingler', 'Voltorb', 'Electrode', 'Cubone', 'Marowak', 'Hitmonlee', 'Hitmonchan', 'Lickitung', 'Koffing', 'Weezing', 'Chansey', 'Kangaskhan', 'Horsea', 'Seadra', 'Goldeen', 'Seaking', 'Staryu', 'Mr. Mime', 'Electabuzz', 'Magmar', 'Pinsir', 'Tauros', 'Magikarp', 'Gyarados', 'Ditto', 'Eevee', 'Vaporeon', 'Jolteon', 'Flareon', 'Porygon', 'Snorlax', 'Zapdos', 'Moltres', 'Dratini', 'Dragonair', 'Mewtwo', 'Mew'] 102\n"
     ]
    }
   ],
   "source": [
    "pokemons=list(df[df['multipliers'].isnull()==True]['name']) ## no multipliers means taking pokemon whose multipliers is nan\n",
    "print('Pokemons that have no multipliers at all:\\n ',pokemon_names,len(pokemon_names))"
   ]
  },
  {
   "cell_type": "markdown",
   "id": "89380850",
   "metadata": {},
   "source": [
    "### Get all Pokemons that do not have more than 2 evolutions"
   ]
  },
  {
   "cell_type": "code",
   "execution_count": 23,
   "id": "6a3ac1a5",
   "metadata": {},
   "outputs": [
    {
     "name": "stderr",
     "output_type": "stream",
     "text": [
      "C:\\Users\\HP\\AppData\\Local\\Temp\\ipykernel_13272\\454286244.py:2: SettingWithCopyWarning: \n",
      "A value is trying to be set on a copy of a slice from a DataFrame.\n",
      "Try using .loc[row_indexer,col_indexer] = value instead\n",
      "\n",
      "See the caveats in the documentation: https://pandas.pydata.org/pandas-docs/stable/user_guide/indexing.html#returning-a-view-versus-a-copy\n",
      "  df1['evolution'] = df1[['next_evolution', 'prev_evolution']].apply(lambda x: ', '.join(x[x.notnull()]), axis = 1)\n"
     ]
    },
    {
     "data": {
      "text/html": [
       "<div>\n",
       "<style scoped>\n",
       "    .dataframe tbody tr th:only-of-type {\n",
       "        vertical-align: middle;\n",
       "    }\n",
       "\n",
       "    .dataframe tbody tr th {\n",
       "        vertical-align: top;\n",
       "    }\n",
       "\n",
       "    .dataframe thead th {\n",
       "        text-align: right;\n",
       "    }\n",
       "</style>\n",
       "<table border=\"1\" class=\"dataframe\">\n",
       "  <thead>\n",
       "    <tr style=\"text-align: right;\">\n",
       "      <th></th>\n",
       "      <th>name</th>\n",
       "      <th>next_evolution</th>\n",
       "      <th>prev_evolution</th>\n",
       "      <th>evolution</th>\n",
       "    </tr>\n",
       "  </thead>\n",
       "  <tbody>\n",
       "    <tr>\n",
       "      <th>0</th>\n",
       "      <td>Bulbasaur</td>\n",
       "      <td>Ivysaur, Venusaur</td>\n",
       "      <td>NaN</td>\n",
       "      <td>Ivysaur, Venusaur</td>\n",
       "    </tr>\n",
       "    <tr>\n",
       "      <th>1</th>\n",
       "      <td>Ivysaur</td>\n",
       "      <td>Venusaur</td>\n",
       "      <td>Bulbasaur</td>\n",
       "      <td>Venusaur, Bulbasaur</td>\n",
       "    </tr>\n",
       "    <tr>\n",
       "      <th>2</th>\n",
       "      <td>Venusaur</td>\n",
       "      <td>NaN</td>\n",
       "      <td>Bulbasaur, Ivysaur</td>\n",
       "      <td>Bulbasaur, Ivysaur</td>\n",
       "    </tr>\n",
       "    <tr>\n",
       "      <th>3</th>\n",
       "      <td>Charmander</td>\n",
       "      <td>Charmeleon, Charizard</td>\n",
       "      <td>NaN</td>\n",
       "      <td>Charmeleon, Charizard</td>\n",
       "    </tr>\n",
       "    <tr>\n",
       "      <th>4</th>\n",
       "      <td>Charmeleon</td>\n",
       "      <td>Charizard</td>\n",
       "      <td>Charmander</td>\n",
       "      <td>Charizard, Charmander</td>\n",
       "    </tr>\n",
       "    <tr>\n",
       "      <th>...</th>\n",
       "      <td>...</td>\n",
       "      <td>...</td>\n",
       "      <td>...</td>\n",
       "      <td>...</td>\n",
       "    </tr>\n",
       "    <tr>\n",
       "      <th>146</th>\n",
       "      <td>Dratini</td>\n",
       "      <td>Dragonair, Dragonite</td>\n",
       "      <td>NaN</td>\n",
       "      <td>Dragonair, Dragonite</td>\n",
       "    </tr>\n",
       "    <tr>\n",
       "      <th>147</th>\n",
       "      <td>Dragonair</td>\n",
       "      <td>Dragonite</td>\n",
       "      <td>Dratini</td>\n",
       "      <td>Dragonite, Dratini</td>\n",
       "    </tr>\n",
       "    <tr>\n",
       "      <th>148</th>\n",
       "      <td>Dragonite</td>\n",
       "      <td>NaN</td>\n",
       "      <td>Dratini, Dragonair</td>\n",
       "      <td>Dratini, Dragonair</td>\n",
       "    </tr>\n",
       "    <tr>\n",
       "      <th>149</th>\n",
       "      <td>Mewtwo</td>\n",
       "      <td>NaN</td>\n",
       "      <td>NaN</td>\n",
       "      <td></td>\n",
       "    </tr>\n",
       "    <tr>\n",
       "      <th>150</th>\n",
       "      <td>Mew</td>\n",
       "      <td>NaN</td>\n",
       "      <td>NaN</td>\n",
       "      <td></td>\n",
       "    </tr>\n",
       "  </tbody>\n",
       "</table>\n",
       "<p>151 rows × 4 columns</p>\n",
       "</div>"
      ],
      "text/plain": [
       "           name         next_evolution      prev_evolution  \\\n",
       "0     Bulbasaur      Ivysaur, Venusaur                 NaN   \n",
       "1       Ivysaur               Venusaur           Bulbasaur   \n",
       "2      Venusaur                    NaN  Bulbasaur, Ivysaur   \n",
       "3    Charmander  Charmeleon, Charizard                 NaN   \n",
       "4    Charmeleon              Charizard          Charmander   \n",
       "..          ...                    ...                 ...   \n",
       "146     Dratini   Dragonair, Dragonite                 NaN   \n",
       "147   Dragonair              Dragonite             Dratini   \n",
       "148   Dragonite                    NaN  Dratini, Dragonair   \n",
       "149      Mewtwo                    NaN                 NaN   \n",
       "150         Mew                    NaN                 NaN   \n",
       "\n",
       "                 evolution  \n",
       "0        Ivysaur, Venusaur  \n",
       "1      Venusaur, Bulbasaur  \n",
       "2       Bulbasaur, Ivysaur  \n",
       "3    Charmeleon, Charizard  \n",
       "4    Charizard, Charmander  \n",
       "..                     ...  \n",
       "146   Dragonair, Dragonite  \n",
       "147     Dragonite, Dratini  \n",
       "148     Dratini, Dragonair  \n",
       "149                         \n",
       "150                         \n",
       "\n",
       "[151 rows x 4 columns]"
      ]
     },
     "execution_count": 23,
     "metadata": {},
     "output_type": "execute_result"
    }
   ],
   "source": [
    "df1=df[['name','next_evolution','prev_evolution']]\n",
    "df1['evolution'] = df1[['next_evolution', 'prev_evolution']].apply(lambda x: ', '.join(x[x.notnull()]), axis = 1)\n",
    "df1"
   ]
  },
  {
   "cell_type": "code",
   "execution_count": 24,
   "id": "d44016b1",
   "metadata": {},
   "outputs": [],
   "source": [
    "a=lambda x:len(x.split(','))"
   ]
  },
  {
   "cell_type": "code",
   "execution_count": 27,
   "id": "2a446015",
   "metadata": {},
   "outputs": [
    {
     "name": "stdout",
     "output_type": "stream",
     "text": [
      "Pokemons that do not have more than 2 evolution:\n",
      "  ['Rattata', 'Raticate', 'Spearow', 'Fearow', 'Ekans', 'Arbok', 'Pikachu', 'Raichu', 'Sandshrew', 'Sandslash', 'Clefairy', 'Clefable', 'Vulpix', 'Ninetales', 'Jigglypuff', 'Wigglytuff', 'Zubat', 'Golbat', 'Paras', 'Parasect', 'Venonat', 'Venomoth', 'Diglett', 'Dugtrio', 'Meowth', 'Persian', 'Psyduck', 'Golduck', 'Mankey', 'Primeape', 'Growlithe', 'Arcanine', 'Tentacool', 'Tentacruel', 'Ponyta', 'Rapidash', 'Slowpoke', 'Slowbro', 'Magnemite', 'Magneton', \"Farfetch'd\", 'Doduo', 'Dodrio', 'Seel', 'Dewgong', 'Grimer', 'Muk', 'Shellder', 'Cloyster', 'Onix', 'Drowzee', 'Hypno', 'Krabby', 'Kingler', 'Voltorb', 'Electrode', 'Exeggcute', 'Exeggutor', 'Cubone', 'Marowak', 'Hitmonlee', 'Hitmonchan', 'Lickitung', 'Koffing', 'Weezing', 'Rhyhorn', 'Rhydon', 'Chansey', 'Tangela', 'Kangaskhan', 'Horsea', 'Seadra', 'Goldeen', 'Seaking', 'Staryu', 'Starmie', 'Mr. Mime', 'Scyther', 'Jynx', 'Electabuzz', 'Magmar', 'Pinsir', 'Tauros', 'Magikarp', 'Gyarados', 'Lapras', 'Ditto', 'Vaporeon', 'Jolteon', 'Flareon', 'Porygon', 'Omanyte', 'Omastar', 'Kabuto', 'Kabutops', 'Aerodactyl', 'Snorlax', 'Articuno', 'Zapdos', 'Moltres', 'Mewtwo', 'Mew'] 102\n"
     ]
    }
   ],
   "source": [
    "pokemon_names=list(df1[df1['evolution'].apply(a)<2]['name'])\n",
    "print('Pokemons that do not have more than 2 evolution:\\n ',pokemon_names,len(pokemon_names))"
   ]
  },
  {
   "cell_type": "markdown",
   "id": "7a5afae6",
   "metadata": {},
   "source": [
    "### Get all Pokemons whose spawn time is less than 300 seconds"
   ]
  },
  {
   "cell_type": "markdown",
   "id": "8460887d",
   "metadata": {},
   "source": [
    "Note - spawn time format is \"05:32”, so assume “minute: second” format and perform the analysis.\n"
   ]
  },
  {
   "cell_type": "code",
   "execution_count": 17,
   "id": "e1400880",
   "metadata": {},
   "outputs": [
    {
     "data": {
      "text/plain": [
       "0      20:00\n",
       "1      07:00\n",
       "2      11:30\n",
       "3      08:45\n",
       "4      19:00\n",
       "       ...  \n",
       "146    06:41\n",
       "147    11:57\n",
       "148    23:38\n",
       "149      NaN\n",
       "150      NaN\n",
       "Name: spawn_time, Length: 151, dtype: object"
      ]
     },
     "execution_count": 17,
     "metadata": {},
     "output_type": "execute_result"
    }
   ],
   "source": [
    "df['spawn_time']"
   ]
  },
  {
   "cell_type": "code",
   "execution_count": 14,
   "id": "40038666",
   "metadata": {},
   "outputs": [],
   "source": [
    "#function calculate evaluation time of each pokemon and return the pokemon whose evaluation time is less than 300 seconds\n",
    "def filter_pokemon_by_spawn_time(pokemon_data, max_spawn_time=300):\n",
    "    filtered_pokemon = []\n",
    "    for i in pokemon_data.index:\n",
    "        spawn_time = str(pokemon_data.loc[i,'spawn_time'])\n",
    "        if spawn_time!='nan':\n",
    "            ##split time into minutes and seconds and caluculating seconds by minutes*60+seconds\n",
    "            minutes, seconds = map(int, spawn_time.split(':'))\n",
    "            total_seconds = minutes * 60 + seconds\n",
    "            if total_seconds < max_spawn_time:\n",
    "                filtered_pokemon.append(pokemon_data.loc[i,'name'])\n",
    "    return list(filtered_pokemon)"
   ]
  },
  {
   "cell_type": "code",
   "execution_count": 15,
   "id": "455a47ba",
   "metadata": {},
   "outputs": [
    {
     "name": "stdout",
     "output_type": "stream",
     "text": [
      "Pokemons whose spawn time is less than 300 seconds:\n",
      "  ['Squirtle', 'Blastoise', 'Metapod', 'Weedle', 'Kakuna', 'Beedrill', 'Pidgey', 'Pidgeotto', 'Pidgeot', 'Rattata', 'Raticate', 'Fearow', 'Arbok', 'Pikachu', 'Sandshrew', 'Nidoran ♀ (Female)', 'Nidoran ♂ (Male)', 'Clefairy', 'Clefable', 'Ninetales', 'Golbat', 'Oddish', 'Paras', 'Parasect', 'Venonat', 'Diglett', 'Meowth', 'Persian', 'Psyduck', 'Growlithe', 'Arcanine', 'Poliwag', 'Poliwrath', 'Abra', 'Machop', 'Machamp', 'Bellsprout', 'Tentacool', 'Graveler', 'Ponyta', 'Rapidash', 'Slowbro', 'Magnemite', \"Farfetch'd\", 'Dodrio', 'Muk', 'Cloyster', 'Gastly', 'Haunter', 'Gengar', 'Onix', 'Drowzee', 'Hypno', 'Krabby', 'Kingler', 'Voltorb', 'Electrode', 'Cubone', 'Marowak', 'Hitmonlee', 'Lickitung', 'Rhyhorn', 'Chansey', 'Kangaskhan', 'Horsea', 'Seadra', 'Goldeen', 'Mr. Mime', 'Electabuzz', 'Pinsir', 'Tauros', 'Gyarados', 'Jolteon', 'Porygon', 'Kabuto'] 75\n"
     ]
    }
   ],
   "source": [
    "p=filter_pokemon_by_spawn_time(df, max_spawn_time=300)\n",
    "print('Pokemons whose spawn time is less than 300 seconds:\\n ',p,len(p))"
   ]
  },
  {
   "cell_type": "markdown",
   "id": "6fe81912",
   "metadata": {},
   "source": [
    "### Get all Pokemon who have more than two types of capabilities"
   ]
  },
  {
   "cell_type": "code",
   "execution_count": 16,
   "id": "7ee17064",
   "metadata": {},
   "outputs": [
    {
     "data": {
      "text/plain": [
       "array(['Grass, Poison', 'Fire', 'Fire, Flying', 'Water', 'Bug',\n",
       "       'Bug, Flying', 'Bug, Poison', 'Normal, Flying', 'Normal', 'Poison',\n",
       "       'Electric', 'Ground', 'Poison, Ground', 'Poison, Flying',\n",
       "       'Bug, Grass', 'Fighting', 'Water, Fighting', 'Psychic',\n",
       "       'Water, Poison', 'Rock, Ground', 'Water, Psychic', 'Water, Ice',\n",
       "       'Ghost, Poison', 'Grass, Psychic', 'Ground, Rock', 'Grass',\n",
       "       'Ice, Psychic', 'Water, Flying', 'Rock, Water', 'Rock, Flying',\n",
       "       'Ice, Flying', 'Electric, Flying', 'Dragon', 'Dragon, Flying'],\n",
       "      dtype=object)"
      ]
     },
     "execution_count": 16,
     "metadata": {},
     "output_type": "execute_result"
    }
   ],
   "source": [
    "df['type'].unique()"
   ]
  },
  {
   "cell_type": "code",
   "execution_count": 28,
   "id": "ab2c3891",
   "metadata": {},
   "outputs": [
    {
     "name": "stdout",
     "output_type": "stream",
     "text": [
      "Pokemon who have more than two types of capabilities:\n",
      "  [] 0\n"
     ]
    }
   ],
   "source": [
    "a=lambda x:len(x.split(','))\n",
    "pokemon_names=list(df[df['type'].apply(a)>2]['name'])\n",
    "print('Pokemon who have more than two types of capabilities:\\n ',pokemon_names,len(pokemon_names))"
   ]
  }
 ],
 "metadata": {
  "kernelspec": {
   "display_name": "Python 3 (ipykernel)",
   "language": "python",
   "name": "python3"
  },
  "language_info": {
   "codemirror_mode": {
    "name": "ipython",
    "version": 3
   },
   "file_extension": ".py",
   "mimetype": "text/x-python",
   "name": "python",
   "nbconvert_exporter": "python",
   "pygments_lexer": "ipython3",
   "version": "3.9.16"
  }
 },
 "nbformat": 4,
 "nbformat_minor": 5
}
