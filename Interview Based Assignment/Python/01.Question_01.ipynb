{
 "cells": [
  {
   "attachments": {},
   "cell_type": "markdown",
   "metadata": {},
   "source": [
    "### Question 1: -\n",
    "Write a program that takes a string as input, and counts the frequency of each word in the string, there might\n",
    "be repeated characters in the string. Your task is to find the highest frequency and returns the length of the\n",
    "highest-frequency word.\n",
    "\n",
    "**Note** - You have to write at least 2 additional test cases in which your program will run successfully and provide\n",
    "an explanation for the same.\n",
    "\n",
    "Example input - string = “write write write all the number from from from 1 to 100”\n",
    "\n",
    "Example output - 5\n",
    "\n",
    "Explanation - From the given string we can note that the most frequent words are “write” and “from” and\n",
    "the maximum value of both the values is “write” and its corresponding length is 5"
   ]
  },
  {
   "cell_type": "code",
   "execution_count": 30,
   "metadata": {},
   "outputs": [],
   "source": [
    "def len_high_freq_word(s):\n",
    "    s1=s.split()\n",
    "    freq_dic={} # freq_dict to store the frequency of each word in the string as key value pair word:frequency\n",
    "    freq_dic={i:s1.count(i) for i in s1 if i not in freq_dic}\n",
    "    freq_dict=dict(sorted(freq_dic.items(), key=lambda x: x[1], reverse=True)) # sorting the freq_dict in descending order of frequency\n",
    "    max_val=max(freq_dict.values()) # max_val stores the maximum frequency of a word in the string\n",
    "    l=[]\n",
    "    for key,value in freq_dict.items():\n",
    "        if value==max_val:\n",
    "            #print(key,value)\n",
    "            l.append(key) #\n",
    "    print(len(max(l,key=len))) # printing the length of the longest word with highest frequency\n"
   ]
  },
  {
   "cell_type": "code",
   "execution_count": 31,
   "metadata": {},
   "outputs": [
    {
     "name": "stdout",
     "output_type": "stream",
     "text": [
      "5\n"
     ]
    }
   ],
   "source": [
    "s=\"write write write all the number from from from 1 to 100\"\n",
    "len_high_freq_word(s)"
   ]
  },
  {
   "attachments": {},
   "cell_type": "markdown",
   "metadata": {},
   "source": [
    "**In the above case , write and from repeats 3 times which are high frequency values and among them the write `word(5)`length is greater than the `from(4)` word so the code prints 5*"
   ]
  },
  {
   "cell_type": "code",
   "execution_count": 32,
   "metadata": {},
   "outputs": [
    {
     "name": "stdout",
     "output_type": "stream",
     "text": [
      "7\n"
     ]
    }
   ],
   "source": [
    "\n",
    "\n",
    "s=\"ineuron ineuron full stack data science data\"\n",
    "len_high_freq_word(s)"
   ]
  },
  {
   "attachments": {},
   "cell_type": "markdown",
   "metadata": {},
   "source": [
    "In the above case, ineuron and data has frequency more than i.e 2, remaining words and among them `ineuron(7)` length is greater than the `data(4)` so our code prints 7"
   ]
  },
  {
   "cell_type": "code",
   "execution_count": 33,
   "metadata": {},
   "outputs": [
    {
     "name": "stdout",
     "output_type": "stream",
     "text": [
      "5\n"
     ]
    }
   ],
   "source": [
    "s=\"full satck stack full stack data\"\n",
    "len_high_freq_word(s)"
   ]
  },
  {
   "attachments": {},
   "cell_type": "markdown",
   "metadata": {},
   "source": [
    "In the above case, stack frequency is 3 which is more than remaining words and it's lenght is 5 so our code prints 5"
   ]
  },
  {
   "cell_type": "code",
   "execution_count": null,
   "metadata": {},
   "outputs": [],
   "source": []
  }
 ],
 "metadata": {
  "kernelspec": {
   "display_name": "base",
   "language": "python",
   "name": "python3"
  },
  "language_info": {
   "codemirror_mode": {
    "name": "ipython",
    "version": 3
   },
   "file_extension": ".py",
   "mimetype": "text/x-python",
   "name": "python",
   "nbconvert_exporter": "python",
   "pygments_lexer": "ipython3",
   "version": "3.9.16"
  },
  "orig_nbformat": 4
 },
 "nbformat": 4,
 "nbformat_minor": 2
}
